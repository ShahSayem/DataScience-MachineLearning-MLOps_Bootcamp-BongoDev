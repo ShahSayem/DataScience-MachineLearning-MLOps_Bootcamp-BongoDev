{
 "cells": [
  {
   "cell_type": "code",
   "execution_count": 2,
   "id": "2159d8f4",
   "metadata": {},
   "outputs": [
    {
     "data": {
      "text/plain": [
       "' Multidimentional numpy arrays\\n    Mathematical objects: \\n        Scalar: 4 or 4.5 etc. => 0 Dimensional\\n        Vector: [4, 5] => 1 Dimensional\\n        Matrix: [ [1, 2, 3], \\n                  [4, 5, 6] ] => 2(n) Dimensional\\n        Tensor: An array with more than 2 dimensions\\n        [[[1, 2], [3, 4]], \\n         [[5, 6], [7, 8]]] => 3 Dimensional\\n        [[[[1, 2], [3, 4]], \\n          [[5, 6], [7, 8]]]] => 4 Dimensional\\n        [[[[[1, 2], [3, 4]], \\n           [[5, 6], [7, 8]]]]] => 5 Dimensional\\n'"
      ]
     },
     "execution_count": 2,
     "metadata": {},
     "output_type": "execute_result"
    }
   ],
   "source": [
    "\"\"\" Multidimentional numpy arrays\n",
    "    Mathematical objects: \n",
    "        Scalar: 4 or 4.5 etc. => 0 Dimensional\n",
    "        Vector: [4, 5] => 1 Dimensional\n",
    "        Matrix: [ [1, 2, 3], \n",
    "                  [4, 5, 6] ] => 2(n) Dimensional\n",
    "        Tensor: An array with more than 2 dimensions\n",
    "        [[[1, 2], [3, 4]], \n",
    "         [[5, 6], [7, 8]]] => 3 Dimensional\n",
    "        [[[[1, 2], [3, 4]], \n",
    "          [[5, 6], [7, 8]]]] => 4 Dimensional\n",
    "        [[[[[1, 2], [3, 4]], \n",
    "           [[5, 6], [7, 8]]]]] => 5 Dimensional\n",
    "\"\"\""
   ]
  },
  {
   "cell_type": "code",
   "execution_count": 3,
   "id": "6bb29e5f",
   "metadata": {},
   "outputs": [],
   "source": [
    "import numpy as np"
   ]
  },
  {
   "cell_type": "code",
   "execution_count": 4,
   "id": "def07601",
   "metadata": {},
   "outputs": [
    {
     "name": "stdout",
     "output_type": "stream",
     "text": [
      "57\n"
     ]
    }
   ],
   "source": [
    "scaler = np.array(57)\n",
    "print(scaler) # 0 brackets => 0D "
   ]
  },
  {
   "cell_type": "code",
   "execution_count": 5,
   "id": "ba2f7e43",
   "metadata": {},
   "outputs": [
    {
     "name": "stdout",
     "output_type": "stream",
     "text": [
      "[1 2 3 4 5]\n"
     ]
    }
   ],
   "source": [
    "vector = np.array([1, 2, 3, 4, 5])\n",
    "vector # 1 bracket => 1D \n",
    "print(vector)"
   ]
  },
  {
   "cell_type": "code",
   "execution_count": 6,
   "id": "01e8b904",
   "metadata": {},
   "outputs": [
    {
     "name": "stdout",
     "output_type": "stream",
     "text": [
      "[[1 2]\n",
      " [3 4]\n",
      " [5 6]]\n"
     ]
    }
   ],
   "source": [
    "matrix = np.array([ [1, 2],\n",
    "                    [3, 4],\n",
    "                    [5, 6] ]\n",
    "                 ) # 2 nested brackets => 2D \n",
    "print(matrix)"
   ]
  },
  {
   "cell_type": "code",
   "execution_count": 7,
   "id": "67aa6748",
   "metadata": {},
   "outputs": [
    {
     "name": "stdout",
     "output_type": "stream",
     "text": [
      "dimention of scaler:  0\n",
      "dimention of vector:  1\n",
      "dimention of matrix:  2\n"
     ]
    }
   ],
   "source": [
    "print(\"dimention of scaler: \", scaler.ndim)\n",
    "print(\"dimention of vector: \", vector.ndim)\n",
    "print(\"dimention of matrix: \", matrix.ndim)"
   ]
  },
  {
   "cell_type": "code",
   "execution_count": 8,
   "id": "154af8c8",
   "metadata": {},
   "outputs": [
    {
     "name": "stdout",
     "output_type": "stream",
     "text": [
      "2\n",
      "2\n"
     ]
    }
   ],
   "source": [
    "\"\"\"Numpy indexing \n",
    "    1. Non-negative indexing (0, 1, 2, ... n-1)\n",
    "    2. Negative indexing (-1, -2, -3, ... -n)\n",
    "\n",
    "    array = [1, 2, 3, 4, 5]\n",
    "    #        0  1  2  3  4\n",
    "    #       -5 -4 -3 -2 -1\n",
    "\"\"\"\n",
    "\n",
    "array = np.array([1, 2, 3, 4, 5])\n",
    "print(array[1])\n",
    "print(array[-4])"
   ]
  },
  {
   "cell_type": "code",
   "execution_count": 9,
   "id": "a2bfe66f",
   "metadata": {},
   "outputs": [
    {
     "name": "stdout",
     "output_type": "stream",
     "text": [
      "7\n",
      "7\n",
      "7\n"
     ]
    }
   ],
   "source": [
    "my_2d_array = np.array([[1, 2, 3, 4],\n",
    "                        [5, 6, 7, 8],\n",
    "                        [9, 10, 11, 12]])\n",
    "\n",
    "print(my_2d_array[1, 2])\n",
    "print(my_2d_array[-2, -2])\n",
    "print(my_2d_array[1, -2])"
   ]
  },
  {
   "cell_type": "code",
   "execution_count": 10,
   "id": "347ed518",
   "metadata": {},
   "outputs": [
    {
     "name": "stdout",
     "output_type": "stream",
     "text": [
      "[1 2 3 4 5]\n",
      "[2 4]\n",
      "[3 4]\n"
     ]
    }
   ],
   "source": [
    "\"\"\" Numpy Slicing \n",
    "\n",
    "\n",
    "\"\"\"\n",
    "\n",
    "array = np.array([1, 2, 3, 4, 5])\n",
    "#start=0:stop=n:step=1 (default values)\n",
    "print(array[::])\n",
    "print(array[1:5:2])\n",
    "print(array[2:4])\n"
   ]
  },
  {
   "cell_type": "code",
   "execution_count": 11,
   "id": "de1332f4",
   "metadata": {},
   "outputs": [
    {
     "name": "stdout",
     "output_type": "stream",
     "text": [
      "[[2 3]\n",
      " [6 7]]\n"
     ]
    }
   ],
   "source": [
    "my_2d_array = np.array([[1, 2, 3, 4],\n",
    "                        [5, 6, 7, 8],\n",
    "                        [9, 10, 11, 12]])\n",
    "\n",
    "#                row   column\n",
    "print(my_2d_array[0:2, 1:3])"
   ]
  },
  {
   "cell_type": "code",
   "execution_count": 12,
   "id": "3f0bc3f7",
   "metadata": {},
   "outputs": [
    {
     "name": "stdout",
     "output_type": "stream",
     "text": [
      "[[ 1  3]\n",
      " [ 9 11]]\n"
     ]
    }
   ],
   "source": [
    "#                 row   column\n",
    "print(my_2d_array[0:3:2, 0:4:2])"
   ]
  },
  {
   "cell_type": "code",
   "execution_count": 13,
   "id": "ddc36d1c",
   "metadata": {},
   "outputs": [
    {
     "name": "stdout",
     "output_type": "stream",
     "text": [
      "(5, 3)\n"
     ]
    }
   ],
   "source": [
    "\"\"\" \n",
    "    Numpy Array Reshape\n",
    "    1. Reshape: Change the shape of an array without changing its data\n",
    "        step-a) Flatten the array (to 1D)\n",
    "        step-b) Reshape the array from flattened to desired shape\n",
    "        \n",
    "        condition: number of elements in the original array must be equal to the number of elements in the reshaped array\n",
    "    2. Resize: Change the shape and size of an array\n",
    "\"\"\"\n",
    "\n",
    "my_2d_array = np.array(\n",
    "    [[1, 2, 3],\n",
    "     [4, 5, 6],\n",
    "     [7, 8, 9],\n",
    "     [10, 11, 12],\n",
    "     [13, 14, 15]\n",
    "    ]\n",
    ")\n",
    "\n",
    "print(my_2d_array.shape) # (5, 3)"
   ]
  },
  {
   "cell_type": "code",
   "execution_count": 14,
   "id": "02e4a307",
   "metadata": {},
   "outputs": [
    {
     "name": "stdout",
     "output_type": "stream",
     "text": [
      "[[ 1  2  3  4  5]\n",
      " [ 6  7  8  9 10]\n",
      " [11 12 13 14 15]]\n"
     ]
    }
   ],
   "source": [
    "my_2d_array_reshaped = my_2d_array.reshape(3, 5)\n",
    "print(my_2d_array_reshaped)"
   ]
  },
  {
   "cell_type": "code",
   "execution_count": 15,
   "id": "fde6984d",
   "metadata": {},
   "outputs": [
    {
     "name": "stdout",
     "output_type": "stream",
     "text": [
      "(3, 5)\n"
     ]
    }
   ],
   "source": [
    "print(my_2d_array_reshaped.shape)"
   ]
  },
  {
   "cell_type": "code",
   "execution_count": 16,
   "id": "a3574fcd",
   "metadata": {},
   "outputs": [
    {
     "name": "stdout",
     "output_type": "stream",
     "text": [
      "[[[ 1  2  3  4  5]\n",
      "  [ 6  7  8  9 10]\n",
      "  [11 12 13 14 15]]]\n"
     ]
    }
   ],
   "source": [
    "my_2d_array_reshaped2 = my_2d_array.reshape(1, 3, 5)\n",
    "print(my_2d_array_reshaped2)"
   ]
  },
  {
   "cell_type": "code",
   "execution_count": 17,
   "id": "ed12053b",
   "metadata": {},
   "outputs": [
    {
     "name": "stdout",
     "output_type": "stream",
     "text": [
      "[[[0. 0. 0. 0. 0. 0. 0. 0. 0. 0. 0. 0.]\n",
      "  [0. 0. 0. 0. 0. 0. 0. 0. 0. 0. 0. 0.]]\n",
      "\n",
      " [[0. 0. 0. 0. 0. 0. 0. 0. 0. 0. 0. 0.]\n",
      "  [0. 0. 0. 0. 0. 0. 0. 0. 0. 0. 0. 0.]]]\n"
     ]
    }
   ],
   "source": [
    "zero_arr = np.zeros((3, 4, 2, 2))\n",
    "zero_arrreshaped = zero_arr.reshape(2, 2, 12)\n",
    "print(zero_arrreshaped)"
   ]
  },
  {
   "cell_type": "code",
   "execution_count": 18,
   "id": "01cd74fa",
   "metadata": {},
   "outputs": [
    {
     "name": "stdout",
     "output_type": "stream",
     "text": [
      "(2, 2, 12)\n"
     ]
    }
   ],
   "source": [
    "print(zero_arrreshaped.shape)"
   ]
  },
  {
   "cell_type": "code",
   "execution_count": 19,
   "metadata": {},
   "outputs": [
    {
     "name": "stdout",
     "output_type": "stream",
     "text": [
      "(2, 2, 12)\n"
     ]
    }
   ],
   "source": [
    "zero_arrreshaped = zero_arr.reshape(2, -1, 12) # -1 means that numpy will calculate the value for you\n",
    "print(zero_arrreshaped.shape)                  # It only works for just one -1"
   ]
  },
  {
   "cell_type": "code",
   "execution_count": null,
   "id": "612599dc",
   "metadata": {},
   "outputs": [
    {
     "name": "stdout",
     "output_type": "stream",
     "text": [
      "[1 3 5]\n"
     ]
    }
   ],
   "source": [
    "\"\"\" \n",
    "    Numpy filterring\n",
    "\"\"\"\n",
    "\n",
    "my_array = np.array([1, 2, 3, 4, 5, 6])\n",
    "\n",
    "filter_mask = [True, False, True, False, True, False]  # Only keep odd numbers\n",
    "filtered_array = my_array[filter_mask]\n",
    "print(filtered_array)\n",
    "\n"
   ]
  },
  {
   "cell_type": "code",
   "execution_count": 22,
   "id": "7f1ae580",
   "metadata": {},
   "outputs": [
    {
     "name": "stdout",
     "output_type": "stream",
     "text": [
      "[2 4 6]\n"
     ]
    }
   ],
   "source": [
    "indices = [1, 3, 5]\n",
    "filtered_array2 = my_array[indices]\n",
    "print(filtered_array2)"
   ]
  },
  {
   "cell_type": "code",
   "execution_count": 26,
   "id": "1040f5c4",
   "metadata": {},
   "outputs": [
    {
     "name": "stdout",
     "output_type": "stream",
     "text": [
      "1\n",
      "3\n",
      "5\n"
     ]
    },
    {
     "data": {
      "text/plain": [
       "array([1, 3, 5])"
      ]
     },
     "execution_count": 26,
     "metadata": {},
     "output_type": "execute_result"
    }
   ],
   "source": [
    "\"\"\" \n",
    "    Numpy Vectorization:\n",
    "    It refers to the process of performing operations on entire arrays parallely.\n",
    "\"\"\"\n",
    "\n",
    "my_arr = np.array([1, 2, 3, 4, 5])\n",
    "\n",
    "\n",
    "# Conventional way (loop)\n",
    "for val in my_arr:\n",
    "    if val%2 == 1:\n",
    "        print(val)\n",
    "\n",
    "\n",
    "# Vectorized way\n",
    "my_arr[my_arr%2 == 1]\n"
   ]
  },
  {
   "cell_type": "code",
   "execution_count": 29,
   "id": "01c9aa28",
   "metadata": {},
   "outputs": [
    {
     "name": "stdout",
     "output_type": "stream",
     "text": [
      "[ 6  7  8  9 10]\n"
     ]
    }
   ],
   "source": [
    "my_arr+=5\n",
    "print(my_arr)"
   ]
  },
  {
   "cell_type": "code",
   "execution_count": null,
   "id": "baa46a2e",
   "metadata": {},
   "outputs": [
    {
     "name": "stdout",
     "output_type": "stream",
     "text": [
      "(2,)\n",
      "(4, 2)\n"
     ]
    }
   ],
   "source": [
    "\"\"\" Numpy Broadcasting:\n",
    "     Converting a lower dimension into higher dimension for vectorization\n",
    "\n",
    "    Condition: lower dimension must be 1*higher dimension\n",
    "    Ex:     (6, 7, 7) and (6,)\n",
    "    (6,) => (6, 1, 1) => (6, 7, 7)\n",
    "                        #> Broadcasted\n",
    "     \n",
    "     Ex:       (6,  3,  8) and (6, 2)\n",
    "     (6, 2) => (6,  2,  1) => No broadcast\n",
    "                   #X => Not possible  \n",
    "\"\"\"\n",
    "\n",
    "w = np.array([1, 2])\n",
    "x = np.array([ [3, 4],\n",
    "               [5, 6],\n",
    "               [7, -8],\n",
    "               [-5, -3]\n",
    "            ])\n",
    "\n",
    "print(w.shape)\n",
    "print(x.shape)\n"
   ]
  },
  {
   "cell_type": "code",
   "execution_count": 33,
   "id": "8e8171f7",
   "metadata": {},
   "outputs": [
    {
     "name": "stdout",
     "output_type": "stream",
     "text": [
      "[[  3   8]\n",
      " [  5  12]\n",
      " [  7 -16]\n",
      " [ -5  -6]]\n"
     ]
    }
   ],
   "source": [
    "print(w * x)  # Broadcasting w to match the shape of x"
   ]
  },
  {
   "cell_type": "code",
   "execution_count": null,
   "metadata": {},
   "outputs": [
    {
     "name": "stdout",
     "output_type": "stream",
     "text": [
      "[[ 4  6]\n",
      " [ 6  8]\n",
      " [ 8 -6]\n",
      " [-4 -1]]\n"
     ]
    }
   ],
   "source": [
    "print(w + x)  # It works for +, -, *, / as well"
   ]
  },
  {
   "cell_type": "code",
   "execution_count": 41,
   "id": "954ddb39",
   "metadata": {},
   "outputs": [
    {
     "name": "stdout",
     "output_type": "stream",
     "text": [
      "14\n",
      "(2, 3)\n"
     ]
    }
   ],
   "source": [
    "\"\"\" Numpy Axis \n",
    "        1. First dimension: Axis 0\n",
    "        2. Second dimension: Axis 1\n",
    "        3. Third dimension: Axis 2\n",
    "        .\n",
    "        .\n",
    "        .\n",
    "        n. nth dimension: Axis n-1\n",
    "\"\"\"\n",
    "\n",
    "my_2d_array = np.array(\n",
    "    [[1, 5, -2],\n",
    "     [0, 1, 9]]\n",
    ")\n",
    "\n",
    "print(my_2d_array.sum())\n",
    "print(my_2d_array.shape)"
   ]
  },
  {
   "cell_type": "code",
   "execution_count": null,
   "id": "55504b33",
   "metadata": {},
   "outputs": [
    {
     "name": "stdout",
     "output_type": "stream",
     "text": [
      "[ 4 10]\n",
      "(2,)\n",
      "[1 6 7]\n",
      "(3,)\n"
     ]
    }
   ],
   "source": [
    "# Sum along axis\n",
    "\n",
    "sum_row_wise = my_2d_array.sum(axis=1) # Sum along axis 1 \n",
    "sum_col_wise = my_2d_array.sum(axis=0) # Sum along axis 0 \n",
    "print(sum_row_wise)\n",
    "print(sum_row_wise.shape)\n",
    "print(sum_col_wise)\n",
    "print(sum_col_wise.shape)\n"
   ]
  },
  {
   "cell_type": "code",
   "execution_count": null,
   "id": "d71e5cf8",
   "metadata": {},
   "outputs": [
    {
     "name": "stdout",
     "output_type": "stream",
     "text": [
      "(2, 4)\n",
      "(3, 4)\n",
      "(3, 2)\n"
     ]
    }
   ],
   "source": [
    "my_3d = np.zeros((3, 2, 4))\n",
    "\n",
    "print(my_3d.sum(axis=0).shape)  # Sum along axis 0 (2, 4)\n",
    "print(my_3d.sum(axis=1).shape)  # Sum along axis 1 (3, 4)\n",
    "print(my_3d.sum(axis=2).shape)  # Sum along axis 2 (3, 2)"
   ]
  },
  {
   "cell_type": "code",
   "execution_count": null,
   "id": "824434e7",
   "metadata": {},
   "outputs": [
    {
     "name": "stdout",
     "output_type": "stream",
     "text": [
      "0.7496460069980266\n",
      "[0.16058916 0.0792051  0.81974316 0.72305949 0.82810617]\n"
     ]
    }
   ],
   "source": [
    "\"\"\" Numpy Random\n",
    "\"\"\"\n",
    "\n",
    "print(np.random.rand()) #0-less then 1\n",
    "print(np.random.rand(5)) #random array"
   ]
  },
  {
   "cell_type": "code",
   "execution_count": 53,
   "metadata": {},
   "outputs": [
    {
     "name": "stdout",
     "output_type": "stream",
     "text": [
      "34\n",
      "[[75 52]\n",
      " [12 10]\n",
      " [79 21]\n",
      " [70 80]\n",
      " [79 95]]\n"
     ]
    }
   ],
   "source": [
    "print(np.random.randint(100)) #0-100\n",
    "arr = np.random.randint(100, size=(5, 2))\n",
    "print(arr)"
   ]
  },
  {
   "cell_type": "code",
   "execution_count": 54,
   "id": "8c4b8a7b",
   "metadata": {},
   "outputs": [
    {
     "name": "stdout",
     "output_type": "stream",
     "text": [
      "[[70 80]\n",
      " [75 52]\n",
      " [79 21]\n",
      " [79 95]\n",
      " [12 10]]\n"
     ]
    }
   ],
   "source": [
    "np.random.shuffle(arr)\n",
    "print(arr)"
   ]
  },
  {
   "cell_type": "code",
   "execution_count": 56,
   "id": "f9b803c1",
   "metadata": {},
   "outputs": [
    {
     "name": "stdout",
     "output_type": "stream",
     "text": [
      "[0.3 0.1 0.4 0.2]\n",
      "[0.1 0.2 0.3 0.4]\n",
      "[0.4 0.3 0.2 0.1]\n"
     ]
    }
   ],
   "source": [
    "\"\"\" Useful numpy methods\n",
    "\"\"\"\n",
    "\n",
    "probabilities = np.array([0.3, 0.1, 0.4, 0.2])\n",
    "print(probabilities)\n",
    "\n",
    "probabilities_sorted = np.sort(probabilities)\n",
    "print(probabilities_sorted)\n",
    "\n",
    "probabilities_reverse_sorted = np.sort(probabilities)[::-1]\n",
    "print(probabilities_reverse_sorted)"
   ]
  },
  {
   "cell_type": "code",
   "execution_count": 57,
   "id": "ef1d0862",
   "metadata": {},
   "outputs": [
    {
     "name": "stdout",
     "output_type": "stream",
     "text": [
      "2\n",
      "1\n"
     ]
    }
   ],
   "source": [
    "index_max = np.argmax(probabilities)\n",
    "print(index_max)\n",
    "\n",
    "index_min = np.argmin(probabilities)\n",
    "print(index_min)"
   ]
  },
  {
   "cell_type": "code",
   "execution_count": 59,
   "id": "a627c275",
   "metadata": {},
   "outputs": [
    {
     "name": "stdout",
     "output_type": "stream",
     "text": [
      "[array([1, 5]), array([1, 1]), array([5, 7])]\n",
      "[1 5]\n",
      "[1 1]\n",
      "[5 7]\n"
     ]
    }
   ],
   "source": [
    "arr = np.array([1, 5, 1, 1, 5, 7])\n",
    "\n",
    "new_arr = np.split(arr, 3)  # Split the array into 3 equal parts\n",
    "print(new_arr)\n",
    "print(new_arr[0])\n",
    "print(new_arr[1])\n",
    "print(new_arr[2])"
   ]
  }
 ],
 "metadata": {
  "kernelspec": {
   "display_name": "base",
   "language": "python",
   "name": "python3"
  },
  "language_info": {
   "codemirror_mode": {
    "name": "ipython",
    "version": 3
   },
   "file_extension": ".py",
   "mimetype": "text/x-python",
   "name": "python",
   "nbconvert_exporter": "python",
   "pygments_lexer": "ipython3",
   "version": "3.11.7"
  }
 },
 "nbformat": 4,
 "nbformat_minor": 5
}
