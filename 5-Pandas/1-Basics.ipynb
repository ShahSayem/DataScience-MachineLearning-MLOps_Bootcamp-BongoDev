{
 "cells": [
  {
   "cell_type": "code",
   "execution_count": 1,
   "id": "53746058",
   "metadata": {},
   "outputs": [
    {
     "data": {
      "text/plain": [
       "'\\nData Can be: Text, Image, Video, Audio, Tabular data etc.\\n\\nTabular data => Pandas DataFrame\\nPandas: analyze, clean, explore, manipulate tabular data\\n'"
      ]
     },
     "execution_count": 1,
     "metadata": {},
     "output_type": "execute_result"
    }
   ],
   "source": [
    "\"\"\"\n",
    "Data Can be: Text, Image, Video, Audio, Tabular data etc.\n",
    "\n",
    "Tabular data => Pandas DataFrame\n",
    "Pandas: analyze, clean, explore, manipulate tabular data\n",
    "\"\"\""
   ]
  },
  {
   "cell_type": "code",
   "execution_count": 2,
   "id": "efb2785a",
   "metadata": {},
   "outputs": [],
   "source": [
    "import pandas as pd"
   ]
  },
  {
   "cell_type": "code",
   "execution_count": 3,
   "id": "121d62de",
   "metadata": {},
   "outputs": [
    {
     "name": "stdout",
     "output_type": "stream",
     "text": [
      "<class 'pandas.core.frame.DataFrame'>\n"
     ]
    }
   ],
   "source": [
    "health_data_table = {\n",
    "    \"height\": [1.8, 1.6, 1.7, 1.9],\n",
    "    \"weight\": [70, 60, 65, 80],\n",
    "    \"bmi\": [21.6, 23.4, 22.5, None],\n",
    "}\n",
    "\n",
    "health_data_frame = pd.DataFrame(health_data_table)\n",
    "\n",
    "print(type(health_data_frame))"
   ]
  },
  {
   "cell_type": "code",
   "execution_count": 4,
   "id": "99b46d0c",
   "metadata": {},
   "outputs": [
    {
     "data": {
      "text/html": [
       "<div>\n",
       "<style scoped>\n",
       "    .dataframe tbody tr th:only-of-type {\n",
       "        vertical-align: middle;\n",
       "    }\n",
       "\n",
       "    .dataframe tbody tr th {\n",
       "        vertical-align: top;\n",
       "    }\n",
       "\n",
       "    .dataframe thead th {\n",
       "        text-align: right;\n",
       "    }\n",
       "</style>\n",
       "<table border=\"1\" class=\"dataframe\">\n",
       "  <thead>\n",
       "    <tr style=\"text-align: right;\">\n",
       "      <th></th>\n",
       "      <th>height</th>\n",
       "      <th>weight</th>\n",
       "      <th>bmi</th>\n",
       "    </tr>\n",
       "  </thead>\n",
       "  <tbody>\n",
       "    <tr>\n",
       "      <th>0</th>\n",
       "      <td>1.8</td>\n",
       "      <td>70</td>\n",
       "      <td>21.6</td>\n",
       "    </tr>\n",
       "    <tr>\n",
       "      <th>1</th>\n",
       "      <td>1.6</td>\n",
       "      <td>60</td>\n",
       "      <td>23.4</td>\n",
       "    </tr>\n",
       "    <tr>\n",
       "      <th>2</th>\n",
       "      <td>1.7</td>\n",
       "      <td>65</td>\n",
       "      <td>22.5</td>\n",
       "    </tr>\n",
       "    <tr>\n",
       "      <th>3</th>\n",
       "      <td>1.9</td>\n",
       "      <td>80</td>\n",
       "      <td>NaN</td>\n",
       "    </tr>\n",
       "  </tbody>\n",
       "</table>\n",
       "</div>"
      ],
      "text/plain": [
       "   height  weight   bmi\n",
       "0     1.8      70  21.6\n",
       "1     1.6      60  23.4\n",
       "2     1.7      65  22.5\n",
       "3     1.9      80   NaN"
      ]
     },
     "execution_count": 4,
     "metadata": {},
     "output_type": "execute_result"
    }
   ],
   "source": [
    "health_data_frame.head()  # first 5 rows"
   ]
  },
  {
   "cell_type": "code",
   "execution_count": 5,
   "id": "b8dd933d",
   "metadata": {},
   "outputs": [
    {
     "data": {
      "text/html": [
       "<div>\n",
       "<style scoped>\n",
       "    .dataframe tbody tr th:only-of-type {\n",
       "        vertical-align: middle;\n",
       "    }\n",
       "\n",
       "    .dataframe tbody tr th {\n",
       "        vertical-align: top;\n",
       "    }\n",
       "\n",
       "    .dataframe thead th {\n",
       "        text-align: right;\n",
       "    }\n",
       "</style>\n",
       "<table border=\"1\" class=\"dataframe\">\n",
       "  <thead>\n",
       "    <tr style=\"text-align: right;\">\n",
       "      <th></th>\n",
       "      <th>height</th>\n",
       "      <th>weight</th>\n",
       "      <th>bmi</th>\n",
       "    </tr>\n",
       "  </thead>\n",
       "  <tbody>\n",
       "    <tr>\n",
       "      <th>0</th>\n",
       "      <td>1.8</td>\n",
       "      <td>70</td>\n",
       "      <td>21.6</td>\n",
       "    </tr>\n",
       "    <tr>\n",
       "      <th>1</th>\n",
       "      <td>1.6</td>\n",
       "      <td>60</td>\n",
       "      <td>23.4</td>\n",
       "    </tr>\n",
       "  </tbody>\n",
       "</table>\n",
       "</div>"
      ],
      "text/plain": [
       "   height  weight   bmi\n",
       "0     1.8      70  21.6\n",
       "1     1.6      60  23.4"
      ]
     },
     "execution_count": 5,
     "metadata": {},
     "output_type": "execute_result"
    }
   ],
   "source": [
    "health_data_frame.head(2) #first 2 rows\n"
   ]
  },
  {
   "cell_type": "code",
   "execution_count": 6,
   "metadata": {},
   "outputs": [
    {
     "data": {
      "text/html": [
       "<div>\n",
       "<style scoped>\n",
       "    .dataframe tbody tr th:only-of-type {\n",
       "        vertical-align: middle;\n",
       "    }\n",
       "\n",
       "    .dataframe tbody tr th {\n",
       "        vertical-align: top;\n",
       "    }\n",
       "\n",
       "    .dataframe thead th {\n",
       "        text-align: right;\n",
       "    }\n",
       "</style>\n",
       "<table border=\"1\" class=\"dataframe\">\n",
       "  <thead>\n",
       "    <tr style=\"text-align: right;\">\n",
       "      <th></th>\n",
       "      <th>height</th>\n",
       "      <th>weight</th>\n",
       "      <th>bmi</th>\n",
       "    </tr>\n",
       "  </thead>\n",
       "  <tbody>\n",
       "    <tr>\n",
       "      <th>0</th>\n",
       "      <td>1.8</td>\n",
       "      <td>70</td>\n",
       "      <td>21.6</td>\n",
       "    </tr>\n",
       "    <tr>\n",
       "      <th>1</th>\n",
       "      <td>1.6</td>\n",
       "      <td>60</td>\n",
       "      <td>23.4</td>\n",
       "    </tr>\n",
       "    <tr>\n",
       "      <th>2</th>\n",
       "      <td>1.7</td>\n",
       "      <td>65</td>\n",
       "      <td>22.5</td>\n",
       "    </tr>\n",
       "    <tr>\n",
       "      <th>3</th>\n",
       "      <td>1.9</td>\n",
       "      <td>80</td>\n",
       "      <td>NaN</td>\n",
       "    </tr>\n",
       "  </tbody>\n",
       "</table>\n",
       "</div>"
      ],
      "text/plain": [
       "   height  weight   bmi\n",
       "0     1.8      70  21.6\n",
       "1     1.6      60  23.4\n",
       "2     1.7      65  22.5\n",
       "3     1.9      80   NaN"
      ]
     },
     "execution_count": 6,
     "metadata": {},
     "output_type": "execute_result"
    }
   ],
   "source": [
    "health_data_frame.tail() #last 5 rows"
   ]
  },
  {
   "cell_type": "code",
   "execution_count": 7,
   "id": "dc452a30",
   "metadata": {},
   "outputs": [
    {
     "data": {
      "text/plain": [
       "(4, 3)"
      ]
     },
     "execution_count": 7,
     "metadata": {},
     "output_type": "execute_result"
    }
   ],
   "source": [
    "health_data_frame.shape"
   ]
  },
  {
   "cell_type": "code",
   "execution_count": 8,
   "id": "686bcb80",
   "metadata": {},
   "outputs": [
    {
     "name": "stdout",
     "output_type": "stream",
     "text": [
      "<class 'pandas.core.frame.DataFrame'>\n",
      "RangeIndex: 4 entries, 0 to 3\n",
      "Data columns (total 3 columns):\n",
      " #   Column  Non-Null Count  Dtype  \n",
      "---  ------  --------------  -----  \n",
      " 0   height  4 non-null      float64\n",
      " 1   weight  4 non-null      int64  \n",
      " 2   bmi     3 non-null      float64\n",
      "dtypes: float64(2), int64(1)\n",
      "memory usage: 228.0 bytes\n"
     ]
    }
   ],
   "source": [
    "health_data_frame.info()  # info about the data frame"
   ]
  },
  {
   "cell_type": "code",
   "execution_count": 9,
   "id": "b1e59e8a",
   "metadata": {},
   "outputs": [
    {
     "data": {
      "text/html": [
       "<div>\n",
       "<style scoped>\n",
       "    .dataframe tbody tr th:only-of-type {\n",
       "        vertical-align: middle;\n",
       "    }\n",
       "\n",
       "    .dataframe tbody tr th {\n",
       "        vertical-align: top;\n",
       "    }\n",
       "\n",
       "    .dataframe thead th {\n",
       "        text-align: right;\n",
       "    }\n",
       "</style>\n",
       "<table border=\"1\" class=\"dataframe\">\n",
       "  <thead>\n",
       "    <tr style=\"text-align: right;\">\n",
       "      <th></th>\n",
       "      <th>height</th>\n",
       "      <th>weight</th>\n",
       "      <th>bmi</th>\n",
       "    </tr>\n",
       "  </thead>\n",
       "  <tbody>\n",
       "    <tr>\n",
       "      <th>count</th>\n",
       "      <td>4.000000</td>\n",
       "      <td>4.000000</td>\n",
       "      <td>3.00</td>\n",
       "    </tr>\n",
       "    <tr>\n",
       "      <th>mean</th>\n",
       "      <td>1.750000</td>\n",
       "      <td>68.750000</td>\n",
       "      <td>22.50</td>\n",
       "    </tr>\n",
       "    <tr>\n",
       "      <th>std</th>\n",
       "      <td>0.129099</td>\n",
       "      <td>8.539126</td>\n",
       "      <td>0.90</td>\n",
       "    </tr>\n",
       "    <tr>\n",
       "      <th>min</th>\n",
       "      <td>1.600000</td>\n",
       "      <td>60.000000</td>\n",
       "      <td>21.60</td>\n",
       "    </tr>\n",
       "    <tr>\n",
       "      <th>25%</th>\n",
       "      <td>1.675000</td>\n",
       "      <td>63.750000</td>\n",
       "      <td>22.05</td>\n",
       "    </tr>\n",
       "    <tr>\n",
       "      <th>50%</th>\n",
       "      <td>1.750000</td>\n",
       "      <td>67.500000</td>\n",
       "      <td>22.50</td>\n",
       "    </tr>\n",
       "    <tr>\n",
       "      <th>75%</th>\n",
       "      <td>1.825000</td>\n",
       "      <td>72.500000</td>\n",
       "      <td>22.95</td>\n",
       "    </tr>\n",
       "    <tr>\n",
       "      <th>max</th>\n",
       "      <td>1.900000</td>\n",
       "      <td>80.000000</td>\n",
       "      <td>23.40</td>\n",
       "    </tr>\n",
       "  </tbody>\n",
       "</table>\n",
       "</div>"
      ],
      "text/plain": [
       "         height     weight    bmi\n",
       "count  4.000000   4.000000   3.00\n",
       "mean   1.750000  68.750000  22.50\n",
       "std    0.129099   8.539126   0.90\n",
       "min    1.600000  60.000000  21.60\n",
       "25%    1.675000  63.750000  22.05\n",
       "50%    1.750000  67.500000  22.50\n",
       "75%    1.825000  72.500000  22.95\n",
       "max    1.900000  80.000000  23.40"
      ]
     },
     "execution_count": 9,
     "metadata": {},
     "output_type": "execute_result"
    }
   ],
   "source": [
    "health_data_frame.describe() # summary statistics of the data frame on numerical columns"
   ]
  },
  {
   "cell_type": "code",
   "execution_count": 10,
   "id": "07aad722",
   "metadata": {},
   "outputs": [
    {
     "name": "stdout",
     "output_type": "stream",
     "text": [
      "[[ 1.8 70.  21.6]\n",
      " [ 1.6 60.  23.4]\n",
      " [ 1.7 65.  22.5]\n",
      " [ 1.9 80.   nan]]\n",
      "<class 'numpy.ndarray'>\n"
     ]
    }
   ],
   "source": [
    "values = health_data_frame.values  # get the values of the data frame as a numpy array\n",
    "print(values)\n",
    "print(type(values))"
   ]
  },
  {
   "cell_type": "code",
   "execution_count": 11,
   "id": "7c4eef52",
   "metadata": {},
   "outputs": [
    {
     "name": "stdout",
     "output_type": "stream",
     "text": [
      "Index(['height', 'weight', 'bmi'], dtype='object')\n"
     ]
    }
   ],
   "source": [
    "cols = health_data_frame.columns\n",
    "print(cols)"
   ]
  },
  {
   "cell_type": "code",
   "execution_count": 12,
   "id": "2e265bbe",
   "metadata": {},
   "outputs": [
    {
     "name": "stdout",
     "output_type": "stream",
     "text": [
      "   Height(Feet)  Weight(kg)   BMI\n",
      "0           1.8          70  21.6\n",
      "1           1.6          60  23.4\n",
      "2           1.7          65  22.5\n",
      "3           1.9          80   NaN\n"
     ]
    }
   ],
   "source": [
    "health_data_frame.columns = [\"Height(Feet)\", \"Weight(kg)\", \"BMI\"]  # rename columns\n",
    "print(health_data_frame.head())"
   ]
  },
  {
   "cell_type": "code",
   "execution_count": 13,
   "id": "ac98037b",
   "metadata": {},
   "outputs": [],
   "source": [
    "health_data_frame.to_csv(path_or_buf=\"data/health_data.csv\", index=False)  # save the data frame to a csv file"
   ]
  },
  {
   "cell_type": "code",
   "execution_count": 34,
   "id": "4cfc64b5",
   "metadata": {},
   "outputs": [],
   "source": [
    "my_health_data = pd.read_csv(\"data/health_data.csv\")"
   ]
  },
  {
   "cell_type": "code",
   "execution_count": 35,
   "id": "b6243cc3",
   "metadata": {},
   "outputs": [
    {
     "data": {
      "text/html": [
       "<div>\n",
       "<style scoped>\n",
       "    .dataframe tbody tr th:only-of-type {\n",
       "        vertical-align: middle;\n",
       "    }\n",
       "\n",
       "    .dataframe tbody tr th {\n",
       "        vertical-align: top;\n",
       "    }\n",
       "\n",
       "    .dataframe thead th {\n",
       "        text-align: right;\n",
       "    }\n",
       "</style>\n",
       "<table border=\"1\" class=\"dataframe\">\n",
       "  <thead>\n",
       "    <tr style=\"text-align: right;\">\n",
       "      <th></th>\n",
       "      <th>Height(Feet)</th>\n",
       "      <th>Weight(kg)</th>\n",
       "      <th>BMI</th>\n",
       "    </tr>\n",
       "  </thead>\n",
       "  <tbody>\n",
       "    <tr>\n",
       "      <th>0</th>\n",
       "      <td>1.8</td>\n",
       "      <td>70</td>\n",
       "      <td>21.6</td>\n",
       "    </tr>\n",
       "    <tr>\n",
       "      <th>1</th>\n",
       "      <td>1.6</td>\n",
       "      <td>60</td>\n",
       "      <td>23.4</td>\n",
       "    </tr>\n",
       "    <tr>\n",
       "      <th>2</th>\n",
       "      <td>1.7</td>\n",
       "      <td>65</td>\n",
       "      <td>22.5</td>\n",
       "    </tr>\n",
       "    <tr>\n",
       "      <th>3</th>\n",
       "      <td>1.9</td>\n",
       "      <td>80</td>\n",
       "      <td>NaN</td>\n",
       "    </tr>\n",
       "  </tbody>\n",
       "</table>\n",
       "</div>"
      ],
      "text/plain": [
       "   Height(Feet)  Weight(kg)   BMI\n",
       "0           1.8          70  21.6\n",
       "1           1.6          60  23.4\n",
       "2           1.7          65  22.5\n",
       "3           1.9          80   NaN"
      ]
     },
     "execution_count": 35,
     "metadata": {},
     "output_type": "execute_result"
    }
   ],
   "source": [
    "my_health_data.head()"
   ]
  },
  {
   "cell_type": "code",
   "execution_count": 36,
   "id": "07f66553",
   "metadata": {},
   "outputs": [],
   "source": [
    "df = pd.read_csv(\"data/homelessness.csv\")"
   ]
  },
  {
   "cell_type": "code",
   "execution_count": 41,
   "id": "6a6d9c7c",
   "metadata": {},
   "outputs": [
    {
     "name": "stdout",
     "output_type": "stream",
     "text": [
      "<class 'pandas.core.frame.DataFrame'>\n"
     ]
    },
    {
     "data": {
      "text/html": [
       "<div>\n",
       "<style scoped>\n",
       "    .dataframe tbody tr th:only-of-type {\n",
       "        vertical-align: middle;\n",
       "    }\n",
       "\n",
       "    .dataframe tbody tr th {\n",
       "        vertical-align: top;\n",
       "    }\n",
       "\n",
       "    .dataframe thead th {\n",
       "        text-align: right;\n",
       "    }\n",
       "</style>\n",
       "<table border=\"1\" class=\"dataframe\">\n",
       "  <thead>\n",
       "    <tr style=\"text-align: right;\">\n",
       "      <th></th>\n",
       "      <th>Unnamed: 0</th>\n",
       "      <th>region</th>\n",
       "      <th>state</th>\n",
       "      <th>individuals</th>\n",
       "      <th>family_members</th>\n",
       "      <th>state_pop</th>\n",
       "    </tr>\n",
       "  </thead>\n",
       "  <tbody>\n",
       "    <tr>\n",
       "      <th>0</th>\n",
       "      <td>0</td>\n",
       "      <td>East South Central</td>\n",
       "      <td>Alabama</td>\n",
       "      <td>2570.0</td>\n",
       "      <td>864.0</td>\n",
       "      <td>4887681</td>\n",
       "    </tr>\n",
       "    <tr>\n",
       "      <th>1</th>\n",
       "      <td>1</td>\n",
       "      <td>Pacific</td>\n",
       "      <td>Alaska</td>\n",
       "      <td>1434.0</td>\n",
       "      <td>582.0</td>\n",
       "      <td>735139</td>\n",
       "    </tr>\n",
       "    <tr>\n",
       "      <th>2</th>\n",
       "      <td>2</td>\n",
       "      <td>Mountain</td>\n",
       "      <td>Arizona</td>\n",
       "      <td>7259.0</td>\n",
       "      <td>2606.0</td>\n",
       "      <td>7158024</td>\n",
       "    </tr>\n",
       "    <tr>\n",
       "      <th>3</th>\n",
       "      <td>3</td>\n",
       "      <td>West South Central</td>\n",
       "      <td>Arkansas</td>\n",
       "      <td>2280.0</td>\n",
       "      <td>432.0</td>\n",
       "      <td>3009733</td>\n",
       "    </tr>\n",
       "    <tr>\n",
       "      <th>4</th>\n",
       "      <td>4</td>\n",
       "      <td>Pacific</td>\n",
       "      <td>California</td>\n",
       "      <td>109008.0</td>\n",
       "      <td>20964.0</td>\n",
       "      <td>39461588</td>\n",
       "    </tr>\n",
       "  </tbody>\n",
       "</table>\n",
       "</div>"
      ],
      "text/plain": [
       "   Unnamed: 0              region       state  individuals  family_members  \\\n",
       "0           0  East South Central     Alabama       2570.0           864.0   \n",
       "1           1             Pacific      Alaska       1434.0           582.0   \n",
       "2           2            Mountain     Arizona       7259.0          2606.0   \n",
       "3           3  West South Central    Arkansas       2280.0           432.0   \n",
       "4           4             Pacific  California     109008.0         20964.0   \n",
       "\n",
       "   state_pop  \n",
       "0    4887681  \n",
       "1     735139  \n",
       "2    7158024  \n",
       "3    3009733  \n",
       "4   39461588  "
      ]
     },
     "execution_count": 41,
     "metadata": {},
     "output_type": "execute_result"
    }
   ],
   "source": [
    "print(type(df))\n",
    "df.head()"
   ]
  },
  {
   "cell_type": "code",
   "execution_count": null,
   "id": "d77450e5",
   "metadata": {},
   "outputs": [
    {
     "data": {
      "text/html": [
       "<div>\n",
       "<style scoped>\n",
       "    .dataframe tbody tr th:only-of-type {\n",
       "        vertical-align: middle;\n",
       "    }\n",
       "\n",
       "    .dataframe tbody tr th {\n",
       "        vertical-align: top;\n",
       "    }\n",
       "\n",
       "    .dataframe thead th {\n",
       "        text-align: right;\n",
       "    }\n",
       "</style>\n",
       "<table border=\"1\" class=\"dataframe\">\n",
       "  <thead>\n",
       "    <tr style=\"text-align: right;\">\n",
       "      <th></th>\n",
       "      <th>Unnamed: 0</th>\n",
       "      <th>region</th>\n",
       "      <th>state</th>\n",
       "      <th>individuals</th>\n",
       "      <th>family_members</th>\n",
       "      <th>state_pop</th>\n",
       "    </tr>\n",
       "  </thead>\n",
       "  <tbody>\n",
       "    <tr>\n",
       "      <th>35</th>\n",
       "      <td>35</td>\n",
       "      <td>East North Central</td>\n",
       "      <td>Ohio</td>\n",
       "      <td>6929.0</td>\n",
       "      <td>3320.0</td>\n",
       "      <td>11676341</td>\n",
       "    </tr>\n",
       "    <tr>\n",
       "      <th>49</th>\n",
       "      <td>49</td>\n",
       "      <td>East North Central</td>\n",
       "      <td>Wisconsin</td>\n",
       "      <td>2740.0</td>\n",
       "      <td>2167.0</td>\n",
       "      <td>5807406</td>\n",
       "    </tr>\n",
       "    <tr>\n",
       "      <th>22</th>\n",
       "      <td>22</td>\n",
       "      <td>East North Central</td>\n",
       "      <td>Michigan</td>\n",
       "      <td>5209.0</td>\n",
       "      <td>3142.0</td>\n",
       "      <td>9984072</td>\n",
       "    </tr>\n",
       "    <tr>\n",
       "      <th>13</th>\n",
       "      <td>13</td>\n",
       "      <td>East North Central</td>\n",
       "      <td>Illinois</td>\n",
       "      <td>6752.0</td>\n",
       "      <td>3891.0</td>\n",
       "      <td>12723071</td>\n",
       "    </tr>\n",
       "    <tr>\n",
       "      <th>14</th>\n",
       "      <td>14</td>\n",
       "      <td>East North Central</td>\n",
       "      <td>Indiana</td>\n",
       "      <td>3776.0</td>\n",
       "      <td>1482.0</td>\n",
       "      <td>6695497</td>\n",
       "    </tr>\n",
       "  </tbody>\n",
       "</table>\n",
       "</div>"
      ],
      "text/plain": [
       "    Unnamed: 0              region      state  individuals  family_members  \\\n",
       "35          35  East North Central       Ohio       6929.0          3320.0   \n",
       "49          49  East North Central  Wisconsin       2740.0          2167.0   \n",
       "22          22  East North Central   Michigan       5209.0          3142.0   \n",
       "13          13  East North Central   Illinois       6752.0          3891.0   \n",
       "14          14  East North Central    Indiana       3776.0          1482.0   \n",
       "\n",
       "    state_pop  \n",
       "35   11676341  \n",
       "49    5807406  \n",
       "22    9984072  \n",
       "13   12723071  \n",
       "14    6695497  "
      ]
     },
     "execution_count": 18,
     "metadata": {},
     "output_type": "execute_result"
    }
   ],
   "source": [
    "\"\"\" Sorting data\n",
    "\"\"\"\n",
    "\n",
    "sorted_df = df.sort_values(by=[\"region\"]) \n",
    "\n",
    "sorted_df.head()"
   ]
  },
  {
   "cell_type": "code",
   "execution_count": 38,
   "id": "5963f365",
   "metadata": {},
   "outputs": [
    {
     "data": {
      "text/html": [
       "<div>\n",
       "<style scoped>\n",
       "    .dataframe tbody tr th:only-of-type {\n",
       "        vertical-align: middle;\n",
       "    }\n",
       "\n",
       "    .dataframe tbody tr th {\n",
       "        vertical-align: top;\n",
       "    }\n",
       "\n",
       "    .dataframe thead th {\n",
       "        text-align: right;\n",
       "    }\n",
       "</style>\n",
       "<table border=\"1\" class=\"dataframe\">\n",
       "  <thead>\n",
       "    <tr style=\"text-align: right;\">\n",
       "      <th></th>\n",
       "      <th>Unnamed: 0</th>\n",
       "      <th>region</th>\n",
       "      <th>state</th>\n",
       "      <th>individuals</th>\n",
       "      <th>family_members</th>\n",
       "      <th>state_pop</th>\n",
       "    </tr>\n",
       "  </thead>\n",
       "  <tbody>\n",
       "    <tr>\n",
       "      <th>4</th>\n",
       "      <td>4</td>\n",
       "      <td>Pacific</td>\n",
       "      <td>California</td>\n",
       "      <td>109008.0</td>\n",
       "      <td>20964.0</td>\n",
       "      <td>39461588</td>\n",
       "    </tr>\n",
       "    <tr>\n",
       "      <th>32</th>\n",
       "      <td>32</td>\n",
       "      <td>Mid-Atlantic</td>\n",
       "      <td>New York</td>\n",
       "      <td>39827.0</td>\n",
       "      <td>52070.0</td>\n",
       "      <td>19530351</td>\n",
       "    </tr>\n",
       "    <tr>\n",
       "      <th>9</th>\n",
       "      <td>9</td>\n",
       "      <td>South Atlantic</td>\n",
       "      <td>Florida</td>\n",
       "      <td>21443.0</td>\n",
       "      <td>9587.0</td>\n",
       "      <td>21244317</td>\n",
       "    </tr>\n",
       "    <tr>\n",
       "      <th>43</th>\n",
       "      <td>43</td>\n",
       "      <td>West South Central</td>\n",
       "      <td>Texas</td>\n",
       "      <td>19199.0</td>\n",
       "      <td>6111.0</td>\n",
       "      <td>28628666</td>\n",
       "    </tr>\n",
       "    <tr>\n",
       "      <th>47</th>\n",
       "      <td>47</td>\n",
       "      <td>Pacific</td>\n",
       "      <td>Washington</td>\n",
       "      <td>16424.0</td>\n",
       "      <td>5880.0</td>\n",
       "      <td>7523869</td>\n",
       "    </tr>\n",
       "  </tbody>\n",
       "</table>\n",
       "</div>"
      ],
      "text/plain": [
       "    Unnamed: 0              region       state  individuals  family_members  \\\n",
       "4            4             Pacific  California     109008.0         20964.0   \n",
       "32          32        Mid-Atlantic    New York      39827.0         52070.0   \n",
       "9            9      South Atlantic     Florida      21443.0          9587.0   \n",
       "43          43  West South Central       Texas      19199.0          6111.0   \n",
       "47          47             Pacific  Washington      16424.0          5880.0   \n",
       "\n",
       "    state_pop  \n",
       "4    39461588  \n",
       "32   19530351  \n",
       "9    21244317  \n",
       "43   28628666  \n",
       "47    7523869  "
      ]
     },
     "execution_count": 38,
     "metadata": {},
     "output_type": "execute_result"
    }
   ],
   "source": [
    "sorted_df = df.sort_values(by=[\"individuals\"], ascending=False) \n",
    "\n",
    "sorted_df.head()"
   ]
  },
  {
   "cell_type": "code",
   "execution_count": 19,
   "id": "1241ca48",
   "metadata": {},
   "outputs": [
    {
     "data": {
      "text/html": [
       "<div>\n",
       "<style scoped>\n",
       "    .dataframe tbody tr th:only-of-type {\n",
       "        vertical-align: middle;\n",
       "    }\n",
       "\n",
       "    .dataframe tbody tr th {\n",
       "        vertical-align: top;\n",
       "    }\n",
       "\n",
       "    .dataframe thead th {\n",
       "        text-align: right;\n",
       "    }\n",
       "</style>\n",
       "<table border=\"1\" class=\"dataframe\">\n",
       "  <thead>\n",
       "    <tr style=\"text-align: right;\">\n",
       "      <th></th>\n",
       "      <th>Unnamed: 0</th>\n",
       "      <th>region</th>\n",
       "      <th>state</th>\n",
       "      <th>individuals</th>\n",
       "      <th>family_members</th>\n",
       "      <th>state_pop</th>\n",
       "    </tr>\n",
       "  </thead>\n",
       "  <tbody>\n",
       "    <tr>\n",
       "      <th>49</th>\n",
       "      <td>49</td>\n",
       "      <td>East North Central</td>\n",
       "      <td>Wisconsin</td>\n",
       "      <td>2740.0</td>\n",
       "      <td>2167.0</td>\n",
       "      <td>5807406</td>\n",
       "    </tr>\n",
       "    <tr>\n",
       "      <th>14</th>\n",
       "      <td>14</td>\n",
       "      <td>East North Central</td>\n",
       "      <td>Indiana</td>\n",
       "      <td>3776.0</td>\n",
       "      <td>1482.0</td>\n",
       "      <td>6695497</td>\n",
       "    </tr>\n",
       "    <tr>\n",
       "      <th>22</th>\n",
       "      <td>22</td>\n",
       "      <td>East North Central</td>\n",
       "      <td>Michigan</td>\n",
       "      <td>5209.0</td>\n",
       "      <td>3142.0</td>\n",
       "      <td>9984072</td>\n",
       "    </tr>\n",
       "    <tr>\n",
       "      <th>13</th>\n",
       "      <td>13</td>\n",
       "      <td>East North Central</td>\n",
       "      <td>Illinois</td>\n",
       "      <td>6752.0</td>\n",
       "      <td>3891.0</td>\n",
       "      <td>12723071</td>\n",
       "    </tr>\n",
       "    <tr>\n",
       "      <th>35</th>\n",
       "      <td>35</td>\n",
       "      <td>East North Central</td>\n",
       "      <td>Ohio</td>\n",
       "      <td>6929.0</td>\n",
       "      <td>3320.0</td>\n",
       "      <td>11676341</td>\n",
       "    </tr>\n",
       "  </tbody>\n",
       "</table>\n",
       "</div>"
      ],
      "text/plain": [
       "    Unnamed: 0              region      state  individuals  family_members  \\\n",
       "49          49  East North Central  Wisconsin       2740.0          2167.0   \n",
       "14          14  East North Central    Indiana       3776.0          1482.0   \n",
       "22          22  East North Central   Michigan       5209.0          3142.0   \n",
       "13          13  East North Central   Illinois       6752.0          3891.0   \n",
       "35          35  East North Central       Ohio       6929.0          3320.0   \n",
       "\n",
       "    state_pop  \n",
       "49    5807406  \n",
       "14    6695497  \n",
       "22    9984072  \n",
       "13   12723071  \n",
       "35   11676341  "
      ]
     },
     "execution_count": 19,
     "metadata": {},
     "output_type": "execute_result"
    }
   ],
   "source": [
    "sorted_df2 = df.sort_values(by=[\"region\", \"individuals\"]) \n",
    "sorted_df2.head()"
   ]
  },
  {
   "cell_type": "code",
   "execution_count": null,
   "id": "69ad9d6a",
   "metadata": {},
   "outputs": [
    {
     "data": {
      "text/html": [
       "<div>\n",
       "<style scoped>\n",
       "    .dataframe tbody tr th:only-of-type {\n",
       "        vertical-align: middle;\n",
       "    }\n",
       "\n",
       "    .dataframe tbody tr th {\n",
       "        vertical-align: top;\n",
       "    }\n",
       "\n",
       "    .dataframe thead th {\n",
       "        text-align: right;\n",
       "    }\n",
       "</style>\n",
       "<table border=\"1\" class=\"dataframe\">\n",
       "  <thead>\n",
       "    <tr style=\"text-align: right;\">\n",
       "      <th></th>\n",
       "      <th>Unnamed: 0</th>\n",
       "      <th>region</th>\n",
       "      <th>state</th>\n",
       "      <th>individuals</th>\n",
       "      <th>family_members</th>\n",
       "      <th>state_pop</th>\n",
       "    </tr>\n",
       "  </thead>\n",
       "  <tbody>\n",
       "    <tr>\n",
       "      <th>35</th>\n",
       "      <td>35</td>\n",
       "      <td>East North Central</td>\n",
       "      <td>Ohio</td>\n",
       "      <td>6929.0</td>\n",
       "      <td>3320.0</td>\n",
       "      <td>11676341</td>\n",
       "    </tr>\n",
       "    <tr>\n",
       "      <th>49</th>\n",
       "      <td>49</td>\n",
       "      <td>East North Central</td>\n",
       "      <td>Wisconsin</td>\n",
       "      <td>2740.0</td>\n",
       "      <td>2167.0</td>\n",
       "      <td>5807406</td>\n",
       "    </tr>\n",
       "    <tr>\n",
       "      <th>22</th>\n",
       "      <td>22</td>\n",
       "      <td>East North Central</td>\n",
       "      <td>Michigan</td>\n",
       "      <td>5209.0</td>\n",
       "      <td>3142.0</td>\n",
       "      <td>9984072</td>\n",
       "    </tr>\n",
       "    <tr>\n",
       "      <th>13</th>\n",
       "      <td>13</td>\n",
       "      <td>East North Central</td>\n",
       "      <td>Illinois</td>\n",
       "      <td>6752.0</td>\n",
       "      <td>3891.0</td>\n",
       "      <td>12723071</td>\n",
       "    </tr>\n",
       "    <tr>\n",
       "      <th>14</th>\n",
       "      <td>14</td>\n",
       "      <td>East North Central</td>\n",
       "      <td>Indiana</td>\n",
       "      <td>3776.0</td>\n",
       "      <td>1482.0</td>\n",
       "      <td>6695497</td>\n",
       "    </tr>\n",
       "  </tbody>\n",
       "</table>\n",
       "</div>"
      ],
      "text/plain": [
       "    Unnamed: 0              region      state  individuals  family_members  \\\n",
       "35          35  East North Central       Ohio       6929.0          3320.0   \n",
       "49          49  East North Central  Wisconsin       2740.0          2167.0   \n",
       "22          22  East North Central   Michigan       5209.0          3142.0   \n",
       "13          13  East North Central   Illinois       6752.0          3891.0   \n",
       "14          14  East North Central    Indiana       3776.0          1482.0   \n",
       "\n",
       "    state_pop  \n",
       "35   11676341  \n",
       "49    5807406  \n",
       "22    9984072  \n",
       "13   12723071  \n",
       "14    6695497  "
      ]
     },
     "execution_count": 20,
     "metadata": {},
     "output_type": "execute_result"
    }
   ],
   "source": [
    "sorted_df3 = df.sort_values(by=[\"region\"]) \n",
    "sorted_df3.head() #same region rows are sorted by random order"
   ]
  },
  {
   "cell_type": "code",
   "execution_count": null,
   "metadata": {},
   "outputs": [
    {
     "data": {
      "text/html": [
       "<div>\n",
       "<style scoped>\n",
       "    .dataframe tbody tr th:only-of-type {\n",
       "        vertical-align: middle;\n",
       "    }\n",
       "\n",
       "    .dataframe tbody tr th {\n",
       "        vertical-align: top;\n",
       "    }\n",
       "\n",
       "    .dataframe thead th {\n",
       "        text-align: right;\n",
       "    }\n",
       "</style>\n",
       "<table border=\"1\" class=\"dataframe\">\n",
       "  <thead>\n",
       "    <tr style=\"text-align: right;\">\n",
       "      <th></th>\n",
       "      <th>Unnamed: 0</th>\n",
       "      <th>region</th>\n",
       "      <th>state</th>\n",
       "      <th>individuals</th>\n",
       "      <th>family_members</th>\n",
       "      <th>state_pop</th>\n",
       "    </tr>\n",
       "  </thead>\n",
       "  <tbody>\n",
       "    <tr>\n",
       "      <th>35</th>\n",
       "      <td>35</td>\n",
       "      <td>East North Central</td>\n",
       "      <td>Ohio</td>\n",
       "      <td>6929.0</td>\n",
       "      <td>3320.0</td>\n",
       "      <td>11676341</td>\n",
       "    </tr>\n",
       "    <tr>\n",
       "      <th>13</th>\n",
       "      <td>13</td>\n",
       "      <td>East North Central</td>\n",
       "      <td>Illinois</td>\n",
       "      <td>6752.0</td>\n",
       "      <td>3891.0</td>\n",
       "      <td>12723071</td>\n",
       "    </tr>\n",
       "    <tr>\n",
       "      <th>22</th>\n",
       "      <td>22</td>\n",
       "      <td>East North Central</td>\n",
       "      <td>Michigan</td>\n",
       "      <td>5209.0</td>\n",
       "      <td>3142.0</td>\n",
       "      <td>9984072</td>\n",
       "    </tr>\n",
       "    <tr>\n",
       "      <th>14</th>\n",
       "      <td>14</td>\n",
       "      <td>East North Central</td>\n",
       "      <td>Indiana</td>\n",
       "      <td>3776.0</td>\n",
       "      <td>1482.0</td>\n",
       "      <td>6695497</td>\n",
       "    </tr>\n",
       "    <tr>\n",
       "      <th>49</th>\n",
       "      <td>49</td>\n",
       "      <td>East North Central</td>\n",
       "      <td>Wisconsin</td>\n",
       "      <td>2740.0</td>\n",
       "      <td>2167.0</td>\n",
       "      <td>5807406</td>\n",
       "    </tr>\n",
       "  </tbody>\n",
       "</table>\n",
       "</div>"
      ],
      "text/plain": [
       "    Unnamed: 0              region      state  individuals  family_members  \\\n",
       "35          35  East North Central       Ohio       6929.0          3320.0   \n",
       "13          13  East North Central   Illinois       6752.0          3891.0   \n",
       "22          22  East North Central   Michigan       5209.0          3142.0   \n",
       "14          14  East North Central    Indiana       3776.0          1482.0   \n",
       "49          49  East North Central  Wisconsin       2740.0          2167.0   \n",
       "\n",
       "    state_pop  \n",
       "35   11676341  \n",
       "13   12723071  \n",
       "22    9984072  \n",
       "14    6695497  \n",
       "49    5807406  "
      ]
     },
     "execution_count": 21,
     "metadata": {},
     "output_type": "execute_result"
    }
   ],
   "source": [
    "sorted_df4 = df.sort_values(by=[\"region\", \"individuals\"]\n",
    "    , ascending=[True, False] # ascending   descending\n",
    ") \n",
    "sorted_df4.head()"
   ]
  },
  {
   "cell_type": "code",
   "execution_count": 40,
   "id": "57f40b32",
   "metadata": {},
   "outputs": [
    {
     "name": "stdout",
     "output_type": "stream",
     "text": [
      "<class 'pandas.core.series.Series'>\n",
      "0       2570.0\n",
      "1       1434.0\n",
      "2       7259.0\n",
      "3       2280.0\n",
      "4     109008.0\n",
      "5       7607.0\n",
      "6       2280.0\n",
      "7        708.0\n",
      "8       3770.0\n",
      "9      21443.0\n",
      "10      6943.0\n",
      "11      4131.0\n",
      "12      1297.0\n",
      "13      6752.0\n",
      "14      3776.0\n",
      "15      1711.0\n",
      "16      1443.0\n",
      "17      2735.0\n",
      "18      2540.0\n",
      "19      1450.0\n",
      "20      4914.0\n",
      "21      6811.0\n",
      "22      5209.0\n",
      "23      3993.0\n",
      "24      1024.0\n",
      "25      3776.0\n",
      "26       983.0\n",
      "27      1745.0\n",
      "28      7058.0\n",
      "29       835.0\n",
      "30      6048.0\n",
      "31      1949.0\n",
      "32     39827.0\n",
      "33      6451.0\n",
      "34       467.0\n",
      "35      6929.0\n",
      "36      2823.0\n",
      "37     11139.0\n",
      "38      8163.0\n",
      "39       747.0\n",
      "40      3082.0\n",
      "41       836.0\n",
      "42      6139.0\n",
      "43     19199.0\n",
      "44      1904.0\n",
      "45       780.0\n",
      "46      3928.0\n",
      "47     16424.0\n",
      "48      1021.0\n",
      "49      2740.0\n",
      "50       434.0\n",
      "Name: individuals, dtype: float64\n"
     ]
    }
   ],
   "source": [
    "individuals = df[\"individuals\"]\n",
    "print(type(individuals))\n",
    "print(individuals)"
   ]
  },
  {
   "cell_type": "code",
   "execution_count": null,
   "id": "cd337ac4",
   "metadata": {},
   "outputs": [
    {
     "name": "stdout",
     "output_type": "stream",
     "text": [
      "<class 'numpy.ndarray'>\n",
      "[  2570.   1434.   7259.   2280. 109008.   7607.   2280.    708.   3770.\n",
      "  21443.   6943.   4131.   1297.   6752.   3776.   1711.   1443.   2735.\n",
      "   2540.   1450.   4914.   6811.   5209.   3993.   1024.   3776.    983.\n",
      "   1745.   7058.    835.   6048.   1949.  39827.   6451.    467.   6929.\n",
      "   2823.  11139.   8163.    747.   3082.    836.   6139.  19199.   1904.\n",
      "    780.   3928.  16424.   1021.   2740.    434.]\n"
     ]
    }
   ],
   "source": [
    "# Convert to numpy array\n",
    "import numpy as np \n",
    "individuals = np.array(df[\"individuals\"])\n",
    "print(type(individuals))\n",
    "print(individuals)"
   ]
  },
  {
   "cell_type": "code",
   "execution_count": null,
   "id": "ee68f2e3",
   "metadata": {},
   "outputs": [
    {
     "name": "stdout",
     "output_type": "stream",
     "text": [
      "               region  family_members\n",
      "0  East South Central           864.0\n",
      "1             Pacific           582.0\n",
      "2            Mountain          2606.0\n",
      "3  West South Central           432.0\n",
      "4             Pacific         20964.0\n"
     ]
    }
   ],
   "source": [
    "# Select columns\n",
    "new_df = df[[\"region\", \"family_members\"]]\n",
    "print(new_df.head())"
   ]
  },
  {
   "cell_type": "code",
   "execution_count": null,
   "id": "e7d45634",
   "metadata": {},
   "outputs": [
    {
     "name": "stdout",
     "output_type": "stream",
     "text": [
      "    Unnamed: 0    region     state  individuals  family_members  state_pop\n",
      "2            2  Mountain   Arizona       7259.0          2606.0    7158024\n",
      "5            5  Mountain  Colorado       7607.0          3250.0    5691287\n",
      "12          12  Mountain     Idaho       1297.0           715.0    1750536\n",
      "26          26  Mountain   Montana        983.0           422.0    1060665\n",
      "28          28  Mountain    Nevada       7058.0           486.0    3027341\n"
     ]
    }
   ],
   "source": [
    "# Select rows based on condition\n",
    "mask = df[\"region\"] == \"Mountain\" #Vectorization\n",
    "df_mountain = df[mask]\n",
    "print(df_mountain.head())"
   ]
  },
  {
   "cell_type": "code",
   "execution_count": 45,
   "id": "49592e8e",
   "metadata": {},
   "outputs": [
    {
     "name": "stdout",
     "output_type": "stream",
     "text": [
      "    Unnamed: 0              region       state  individuals  family_members  \\\n",
      "4            4             Pacific  California     109008.0         20964.0   \n",
      "9            9      South Atlantic     Florida      21443.0          9587.0   \n",
      "32          32        Mid-Atlantic    New York      39827.0         52070.0   \n",
      "37          37             Pacific      Oregon      11139.0          3337.0   \n",
      "43          43  West South Central       Texas      19199.0          6111.0   \n",
      "\n",
      "    state_pop  \n",
      "4    39461588  \n",
      "9    21244317  \n",
      "32   19530351  \n",
      "37    4181886  \n",
      "43   28628666  \n"
     ]
    }
   ],
   "source": [
    "df_gt_10k = df[df[\"individuals\"] > 10000]\n",
    "print(df_gt_10k.head())"
   ]
  },
  {
   "cell_type": "code",
   "execution_count": 47,
   "id": "df4704f4",
   "metadata": {},
   "outputs": [
    {
     "name": "stdout",
     "output_type": "stream",
     "text": [
      "    Unnamed: 0   region       state  individuals  family_members  state_pop\n",
      "1            1  Pacific      Alaska       1434.0           582.0     735139\n",
      "11          11  Pacific      Hawaii       4131.0          2399.0    1420593\n",
      "37          37  Pacific      Oregon      11139.0          3337.0    4181886\n",
      "47          47  Pacific  Washington      16424.0          5880.0    7523869\n"
     ]
    }
   ],
   "source": [
    "is_family_lt_10k_mask = df[\"family_members\"] < 10000\n",
    "is_region_pecific_mask = df[\"region\"] == \"Pacific\"\n",
    "\n",
    "df_pacific_lt_10k = df[is_family_lt_10k_mask & is_region_pecific_mask]\n",
    "print(df_pacific_lt_10k.head())"
   ]
  },
  {
   "cell_type": "code",
   "execution_count": 49,
   "id": "087977d9",
   "metadata": {},
   "outputs": [
    {
     "name": "stdout",
     "output_type": "stream",
     "text": [
      "    Unnamed: 0   region       state  individuals  family_members  state_pop  \\\n",
      "1            1  Pacific      Alaska       1434.0           582.0     735139   \n",
      "11          11  Pacific      Hawaii       4131.0          2399.0    1420593   \n",
      "37          37  Pacific      Oregon      11139.0          3337.0    4181886   \n",
      "47          47  Pacific  Washington      16424.0          5880.0    7523869   \n",
      "\n",
      "    total_pop  \n",
      "1    736573.0  \n",
      "11  1424724.0  \n",
      "37  4193025.0  \n",
      "47  7540293.0  \n"
     ]
    }
   ],
   "source": [
    "new_df = df.query(\"family_members < 10000 and region == 'Pacific'\")\n",
    "print(new_df.head())"
   ]
  },
  {
   "cell_type": "code",
   "execution_count": 48,
   "id": "1beb88b7",
   "metadata": {},
   "outputs": [
    {
     "name": "stdout",
     "output_type": "stream",
     "text": [
      "   Unnamed: 0              region       state  individuals  family_members  \\\n",
      "0           0  East South Central     Alabama       2570.0           864.0   \n",
      "1           1             Pacific      Alaska       1434.0           582.0   \n",
      "2           2            Mountain     Arizona       7259.0          2606.0   \n",
      "3           3  West South Central    Arkansas       2280.0           432.0   \n",
      "4           4             Pacific  California     109008.0         20964.0   \n",
      "\n",
      "   state_pop   total_pop  \n",
      "0    4887681   4890251.0  \n",
      "1     735139    736573.0  \n",
      "2    7158024   7165283.0  \n",
      "3    3009733   3012013.0  \n",
      "4   39461588  39570596.0  \n"
     ]
    }
   ],
   "source": [
    "df[\"total_pop\"] = df[\"individuals\"] + df[\"state_pop\"]\n",
    "print(df.head())"
   ]
  },
  {
   "cell_type": "code",
   "execution_count": 50,
   "id": "8507d83e",
   "metadata": {},
   "outputs": [
    {
     "data": {
      "text/plain": [
       "Index(['Unnamed: 0', 'region', 'state', 'individuals', 'family_members',\n",
       "       'state_pop', 'total_pop'],\n",
       "      dtype='object')"
      ]
     },
     "execution_count": 50,
     "metadata": {},
     "output_type": "execute_result"
    }
   ],
   "source": [
    "new_df.columns"
   ]
  },
  {
   "cell_type": "code",
   "execution_count": 51,
   "id": "1b137067",
   "metadata": {},
   "outputs": [
    {
     "name": "stdout",
     "output_type": "stream",
     "text": [
      "     region       state  individuals  family_members  state_pop  total_pop\n",
      "1   Pacific      Alaska       1434.0           582.0     735139   736573.0\n",
      "11  Pacific      Hawaii       4131.0          2399.0    1420593  1424724.0\n",
      "37  Pacific      Oregon      11139.0          3337.0    4181886  4193025.0\n",
      "47  Pacific  Washington      16424.0          5880.0    7523869  7540293.0\n"
     ]
    }
   ],
   "source": [
    "new_df = new_df.drop(columns=[\"Unnamed: 0\"])\n",
    "print(new_df)"
   ]
  },
  {
   "cell_type": "code",
   "execution_count": 52,
   "id": "a619a204",
   "metadata": {},
   "outputs": [
    {
     "name": "stdout",
     "output_type": "stream",
     "text": [
      "Mean:  8282.0\n",
      "Median:  7635.0\n",
      "Max:  16424.0\n",
      "Min:  1434.0\n",
      "Sum:  33128.0\n"
     ]
    }
   ],
   "source": [
    "print(\"Mean: \", new_df[\"individuals\"].mean())\n",
    "print(\"Median: \", new_df[\"individuals\"].median())\n",
    "print(\"Max: \", new_df[\"individuals\"].max())\n",
    "print(\"Min: \", new_df[\"individuals\"].min())\n",
    "print(\"Sum: \", new_df[\"individuals\"].sum())"
   ]
  },
  {
   "cell_type": "code",
   "execution_count": 55,
   "id": "9f747cc9",
   "metadata": {},
   "outputs": [
    {
     "name": "stdout",
     "output_type": "stream",
     "text": [
      "individuals       8282.0\n",
      "family_members    3049.5\n",
      "dtype: float64\n",
      "individuals       6796.580464\n",
      "family_members    2206.512558\n",
      "dtype: float64\n"
     ]
    }
   ],
   "source": [
    "print(new_df[[\"individuals\", \"family_members\"]].mean())\n",
    "print(new_df[[\"individuals\", \"family_members\"]].std())"
   ]
  },
  {
   "cell_type": "code",
   "execution_count": 59,
   "id": "d7956d0d",
   "metadata": {},
   "outputs": [
    {
     "name": "stdout",
     "output_type": "stream",
     "text": [
      "    individuals  family_members\n",
      "1     -1.007566       -1.118281\n",
      "11    -0.610748       -0.294809\n",
      "37     0.420358        0.130296\n",
      "47     1.197955        1.282794\n"
     ]
    }
   ],
   "source": [
    "def normalize1(col): #standardization\n",
    "    mean = col.mean()\n",
    "    std = col.std()\n",
    "    normalized_col = (col - mean) / std\n",
    "\n",
    "    return normalized_col\n",
    "\n",
    "normalized_df1 = new_df[[\"individuals\", \"family_members\"]].agg(normalize1)\n",
    "\n",
    "print(normalized_df1.head())"
   ]
  },
  {
   "cell_type": "code",
   "execution_count": 60,
   "id": "45ec936e",
   "metadata": {},
   "outputs": [
    {
     "name": "stdout",
     "output_type": "stream",
     "text": [
      "    individuals  family_members\n",
      "1      0.000000        0.000000\n",
      "11     0.179920        0.342960\n",
      "37     0.647432        0.520008\n",
      "47     1.000000        1.000000\n"
     ]
    }
   ],
   "source": [
    "def normalize2(col): #min-max normalization\n",
    "    min = col.min()\n",
    "    max = col.max()\n",
    "    normalized_col = (col-min)/(max-min)\n",
    "\n",
    "    return normalized_col\n",
    "\n",
    "normalized_df2 = new_df[[\"individuals\", \"family_members\"]].agg(normalize2)\n",
    "\n",
    "print(normalized_df2.head())"
   ]
  },
  {
   "cell_type": "code",
   "execution_count": 61,
   "id": "38457cb4",
   "metadata": {},
   "outputs": [
    {
     "name": "stdout",
     "output_type": "stream",
     "text": [
      "   individuals            family_members           \n",
      "    normalize1 normalize2     normalize1 normalize2\n",
      "1    -1.007566   0.000000      -1.118281   0.000000\n",
      "11   -0.610748   0.179920      -0.294809   0.342960\n",
      "37    0.420358   0.647432       0.130296   0.520008\n",
      "47    1.197955   1.000000       1.282794   1.000000\n"
     ]
    }
   ],
   "source": [
    "normalized_df = new_df[[\"individuals\", \"family_members\"]].agg([normalize1, normalize2])\n",
    "\n",
    "print(normalized_df.head())"
   ]
  },
  {
   "cell_type": "code",
   "execution_count": null,
   "id": "2c695fe2",
   "metadata": {},
   "outputs": [
    {
     "data": {
      "text/plain": [
       "state\n",
       "Alaska        1\n",
       "Hawaii        1\n",
       "Oregon        1\n",
       "Washington    1\n",
       "Name: count, dtype: int64"
      ]
     },
     "execution_count": 62,
     "metadata": {},
     "output_type": "execute_result"
    }
   ],
   "source": [
    "new_df.value_counts(\"state\")  # count of unique values(catagories) in each column"
   ]
  },
  {
   "cell_type": "code",
   "execution_count": 63,
   "id": "e06648a9",
   "metadata": {},
   "outputs": [
    {
     "data": {
      "text/plain": [
       "region\n",
       "Pacific    4\n",
       "Name: count, dtype: int64"
      ]
     },
     "execution_count": 63,
     "metadata": {},
     "output_type": "execute_result"
    }
   ],
   "source": [
    "new_df.value_counts(\"region\")"
   ]
  },
  {
   "cell_type": "code",
   "execution_count": 64,
   "id": "3b6a1ada",
   "metadata": {},
   "outputs": [
    {
     "data": {
      "text/plain": [
       "state       region \n",
       "Alaska      Pacific    1\n",
       "Hawaii      Pacific    1\n",
       "Oregon      Pacific    1\n",
       "Washington  Pacific    1\n",
       "Name: count, dtype: int64"
      ]
     },
     "execution_count": 64,
     "metadata": {},
     "output_type": "execute_result"
    }
   ],
   "source": [
    "new_df.value_counts([\"state\", \"region\"])"
   ]
  },
  {
   "cell_type": "code",
   "execution_count": 65,
   "id": "a0f0b5cd",
   "metadata": {},
   "outputs": [
    {
     "data": {
      "text/plain": [
       "state       region \n",
       "Alaska      Pacific    1\n",
       "Hawaii      Pacific    1\n",
       "Oregon      Pacific    1\n",
       "Washington  Pacific    1\n",
       "Name: count, dtype: int64"
      ]
     },
     "execution_count": 65,
     "metadata": {},
     "output_type": "execute_result"
    }
   ],
   "source": [
    "new_df.value_counts([\"state\", \"region\"], ascending=False)"
   ]
  }
 ],
 "metadata": {
  "kernelspec": {
   "display_name": "base",
   "language": "python",
   "name": "python3"
  },
  "language_info": {
   "codemirror_mode": {
    "name": "ipython",
    "version": 3
   },
   "file_extension": ".py",
   "mimetype": "text/x-python",
   "name": "python",
   "nbconvert_exporter": "python",
   "pygments_lexer": "ipython3",
   "version": "3.11.7"
  }
 },
 "nbformat": 4,
 "nbformat_minor": 5
}
