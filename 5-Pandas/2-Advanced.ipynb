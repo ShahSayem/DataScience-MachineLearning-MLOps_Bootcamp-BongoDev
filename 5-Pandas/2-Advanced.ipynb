{
 "cells": [
  {
   "cell_type": "code",
   "execution_count": 30,
   "id": "1448972c",
   "metadata": {},
   "outputs": [
    {
     "data": {
      "text/plain": [
       "'\\nWorkflow of Data Scientist:\\n1. Data Collection\\n2. Data Cleaning: handle missing values, remove duplicates, remove outliers, standardize formats\\n3. Exploratory Data Analysis (EDA): \\n    Explore data patterns and distributions\\n    Summary statistics and Visualization\\n4. Feature Engineering:\\n    Selection of most relevant features\\n5. Data Transformation:\\n    Normalize or standardize data\\n    Encode categorical variables\\n    Create new features if necessary\\n6. Data Splitting: Train, Validation, Test (80, 10, 10)\\n    Train set: Used to train the model / estimation of funnction that we are learning from the data\\n    Test set:  Perormance of the ML Algo\\n    Validation set: Use for monitoring the performance of the ML algo during training and may be providing some modification during training to improve the performance or control the training.\\n\\n    The split should be unbiased, fair and representative in all the splits.\\n'"
      ]
     },
     "execution_count": 30,
     "metadata": {},
     "output_type": "execute_result"
    }
   ],
   "source": [
    "\"\"\"\n",
    "Workflow of Data Scientist:\n",
    "1. Data Collection\n",
    "2. Data Cleaning: handle missing values, remove duplicates, remove outliers, standardize formats\n",
    "3. Exploratory Data Analysis (EDA): \n",
    "    Explore data patterns and distributions\n",
    "    Summary statistics and Visualization\n",
    "4. Feature Engineering:\n",
    "    Selection of most relevant features\n",
    "5. Data Transformation:\n",
    "    Normalize or standardize data\n",
    "    Encode categorical variables\n",
    "    Create new features if necessary\n",
    "6. Data Splitting: Train, Validation, Test (80, 10, 10)\n",
    "    Train set: Used to train the model / estimation of funnction that we are learning from the data\n",
    "    Test set:  Perormance of the ML Algo\n",
    "    Validation set: Use for monitoring the performance of the ML algo during training and may be providing some modification during training to improve the performance or control the training.\n",
    "\n",
    "    The split should be unbiased, fair and representative in all the splits.\n",
    "\"\"\""
   ]
  },
  {
   "cell_type": "code",
   "execution_count": 31,
   "metadata": {},
   "outputs": [],
   "source": [
    "import pandas as pd \n",
    "import os\n",
    "from sklearn.model_selection import train_test_split\n",
    "from sklearn.preprocessing import StandardScaler, OneHotEncoder"
   ]
  },
  {
   "cell_type": "code",
   "execution_count": 32,
   "metadata": {},
   "outputs": [
    {
     "name": "stdout",
     "output_type": "stream",
     "text": [
      "E:\\Programming\\AI\\ML Files\\Live Courses\\BongoDev Bootcamp - Data Science, Machine Learning & MLOps\\5-Pandas\\data\\health_monitor_data.csv\n"
     ]
    }
   ],
   "source": [
    "root_dir = \"E:\\\\Programming\\\\AI\\\\ML Files\\\\Live Courses\\\\BongoDev Bootcamp - Data Science, Machine Learning & MLOps\\\\5-Pandas\"\n",
    "data_dir = os.path.join(root_dir, \"data\")\n",
    "dataset_path = os.path.join(data_dir, \"health_monitor_data.csv\")\n",
    "\n",
    "print(dataset_path)"
   ]
  },
  {
   "cell_type": "code",
   "execution_count": 33,
   "metadata": {},
   "outputs": [
    {
     "name": "stdout",
     "output_type": "stream",
     "text": [
      "   Duration          Date  Pulse  Maxpulse  Calories      Type\n",
      "0        60  '2020/12/01'    110       130     409.1      Easy\n",
      "1        60  '2020/12/02'    117       145     479.0  Moderate\n",
      "2        60  '2020/12/03'    103       135     340.0  Moderate\n",
      "3        45  '2020/12/04'    109       175     282.4  Moderate\n",
      "4        45  '2020/12/05'    117       148     406.0     Heavy\n"
     ]
    }
   ],
   "source": [
    "# Load Dataset \n",
    "df = pd.read_csv(dataset_path)\n",
    "print(df.head())"
   ]
  },
  {
   "cell_type": "code",
   "execution_count": 34,
   "metadata": {},
   "outputs": [
    {
     "name": "stdout",
     "output_type": "stream",
     "text": [
      "<class 'pandas.core.frame.DataFrame'>\n",
      "Index: 33 entries, 0 to 32\n",
      "Data columns (total 6 columns):\n",
      " #   Column    Non-Null Count  Dtype  \n",
      "---  ------    --------------  -----  \n",
      " 0   Duration  33 non-null     int64  \n",
      " 1   Date      32 non-null     object \n",
      " 2   Pulse     33 non-null     int64  \n",
      " 3   Maxpulse  33 non-null     int64  \n",
      " 4   Calories  31 non-null     float64\n",
      " 5   Type      33 non-null     object \n",
      "dtypes: float64(1), int64(3), object(2)\n",
      "memory usage: 1.8+ KB\n"
     ]
    }
   ],
   "source": [
    "df.info()"
   ]
  },
  {
   "cell_type": "code",
   "execution_count": 35,
   "metadata": {},
   "outputs": [
    {
     "data": {
      "text/plain": [
       "' Handle missing values\\nApproach-1: drop rows with missing values (when dataset is large eough)\\nApproach-2 (imputation): fill missing values with mean/median/mode (when dataset is small)\\n'"
      ]
     },
     "execution_count": 35,
     "metadata": {},
     "output_type": "execute_result"
    }
   ],
   "source": [
    "\"\"\" Handle missing values\n",
    "Approach-1: drop rows with missing values (when dataset is large eough)\n",
    "Approach-2 (imputation): fill missing values with mean/median/mode (when dataset is small)\n",
    "\"\"\""
   ]
  },
  {
   "cell_type": "code",
   "execution_count": 36,
   "metadata": {},
   "outputs": [
    {
     "name": "stdout",
     "output_type": "stream",
     "text": [
      "   Duration   Date  Pulse  Maxpulse  Calories   Type\n",
      "0     False  False  False     False     False  False\n",
      "1     False  False  False     False     False  False\n",
      "2     False  False  False     False     False  False\n",
      "3     False  False  False     False     False  False\n",
      "4     False  False  False     False     False  False\n"
     ]
    }
   ],
   "source": [
    "mask = df.isnull()\n",
    "print(mask.head())"
   ]
  },
  {
   "cell_type": "code",
   "execution_count": 37,
   "metadata": {},
   "outputs": [
    {
     "name": "stdout",
     "output_type": "stream",
     "text": [
      "Duration    False\n",
      "Date         True\n",
      "Pulse       False\n",
      "Maxpulse    False\n",
      "Calories     True\n",
      "Type        False\n",
      "dtype: bool\n"
     ]
    }
   ],
   "source": [
    "mask = df.isnull().any() #Column-wise: default, axis=0\n",
    "print(mask)"
   ]
  },
  {
   "cell_type": "code",
   "execution_count": 38,
   "metadata": {},
   "outputs": [
    {
     "name": "stdout",
     "output_type": "stream",
     "text": [
      "0    False\n",
      "1    False\n",
      "2    False\n",
      "3    False\n",
      "4    False\n",
      "dtype: bool\n"
     ]
    }
   ],
   "source": [
    "mask = df.isnull().any(axis=1) #Row-wise\n",
    "print(mask.head())"
   ]
  },
  {
   "cell_type": "code",
   "execution_count": 39,
   "id": "d7d7e698",
   "metadata": {},
   "outputs": [
    {
     "data": {
      "text/html": [
       "<div>\n",
       "<style scoped>\n",
       "    .dataframe tbody tr th:only-of-type {\n",
       "        vertical-align: middle;\n",
       "    }\n",
       "\n",
       "    .dataframe tbody tr th {\n",
       "        vertical-align: top;\n",
       "    }\n",
       "\n",
       "    .dataframe thead th {\n",
       "        text-align: right;\n",
       "    }\n",
       "</style>\n",
       "<table border=\"1\" class=\"dataframe\">\n",
       "  <thead>\n",
       "    <tr style=\"text-align: right;\">\n",
       "      <th></th>\n",
       "      <th>Duration</th>\n",
       "      <th>Date</th>\n",
       "      <th>Pulse</th>\n",
       "      <th>Maxpulse</th>\n",
       "      <th>Calories</th>\n",
       "      <th>Type</th>\n",
       "    </tr>\n",
       "  </thead>\n",
       "  <tbody>\n",
       "    <tr>\n",
       "      <th>18</th>\n",
       "      <td>45</td>\n",
       "      <td>'2020/12/18'</td>\n",
       "      <td>90</td>\n",
       "      <td>112</td>\n",
       "      <td>NaN</td>\n",
       "      <td>Moderate</td>\n",
       "    </tr>\n",
       "    <tr>\n",
       "      <th>22</th>\n",
       "      <td>45</td>\n",
       "      <td>NaN</td>\n",
       "      <td>100</td>\n",
       "      <td>119</td>\n",
       "      <td>282.0</td>\n",
       "      <td>Moderate</td>\n",
       "    </tr>\n",
       "    <tr>\n",
       "      <th>28</th>\n",
       "      <td>60</td>\n",
       "      <td>'2020/12/28'</td>\n",
       "      <td>103</td>\n",
       "      <td>132</td>\n",
       "      <td>NaN</td>\n",
       "      <td>Heavy</td>\n",
       "    </tr>\n",
       "  </tbody>\n",
       "</table>\n",
       "</div>"
      ],
      "text/plain": [
       "    Duration          Date  Pulse  Maxpulse  Calories      Type\n",
       "18        45  '2020/12/18'     90       112       NaN  Moderate\n",
       "22        45           NaN    100       119     282.0  Moderate\n",
       "28        60  '2020/12/28'    103       132       NaN     Heavy"
      ]
     },
     "execution_count": 39,
     "metadata": {},
     "output_type": "execute_result"
    }
   ],
   "source": [
    "df[mask]"
   ]
  },
  {
   "cell_type": "code",
   "execution_count": 40,
   "id": "a185ea7a",
   "metadata": {},
   "outputs": [
    {
     "name": "stdout",
     "output_type": "stream",
     "text": [
      "302.93870967741935\n"
     ]
    }
   ],
   "source": [
    "avg_cal = df[\"Calories\"].mean()\n",
    "print(avg_cal)"
   ]
  },
  {
   "cell_type": "code",
   "execution_count": 41,
   "id": "bb8d6d12",
   "metadata": {},
   "outputs": [
    {
     "data": {
      "text/html": [
       "<div>\n",
       "<style scoped>\n",
       "    .dataframe tbody tr th:only-of-type {\n",
       "        vertical-align: middle;\n",
       "    }\n",
       "\n",
       "    .dataframe tbody tr th {\n",
       "        vertical-align: top;\n",
       "    }\n",
       "\n",
       "    .dataframe thead th {\n",
       "        text-align: right;\n",
       "    }\n",
       "</style>\n",
       "<table border=\"1\" class=\"dataframe\">\n",
       "  <thead>\n",
       "    <tr style=\"text-align: right;\">\n",
       "      <th></th>\n",
       "      <th>Duration</th>\n",
       "      <th>Date</th>\n",
       "      <th>Pulse</th>\n",
       "      <th>Maxpulse</th>\n",
       "      <th>Calories</th>\n",
       "      <th>Type</th>\n",
       "    </tr>\n",
       "  </thead>\n",
       "  <tbody>\n",
       "    <tr>\n",
       "      <th>18</th>\n",
       "      <td>45</td>\n",
       "      <td>'2020/12/18'</td>\n",
       "      <td>90</td>\n",
       "      <td>112</td>\n",
       "      <td>302.93871</td>\n",
       "      <td>Moderate</td>\n",
       "    </tr>\n",
       "    <tr>\n",
       "      <th>22</th>\n",
       "      <td>45</td>\n",
       "      <td>NaN</td>\n",
       "      <td>100</td>\n",
       "      <td>119</td>\n",
       "      <td>282.00000</td>\n",
       "      <td>Moderate</td>\n",
       "    </tr>\n",
       "    <tr>\n",
       "      <th>28</th>\n",
       "      <td>60</td>\n",
       "      <td>'2020/12/28'</td>\n",
       "      <td>103</td>\n",
       "      <td>132</td>\n",
       "      <td>302.93871</td>\n",
       "      <td>Heavy</td>\n",
       "    </tr>\n",
       "  </tbody>\n",
       "</table>\n",
       "</div>"
      ],
      "text/plain": [
       "    Duration          Date  Pulse  Maxpulse   Calories      Type\n",
       "18        45  '2020/12/18'     90       112  302.93871  Moderate\n",
       "22        45           NaN    100       119  282.00000  Moderate\n",
       "28        60  '2020/12/28'    103       132  302.93871     Heavy"
      ]
     },
     "execution_count": 41,
     "metadata": {},
     "output_type": "execute_result"
    }
   ],
   "source": [
    "df[\"Calories\"] = df[\"Calories\"].fillna(avg_cal)\n",
    "df[mask]"
   ]
  },
  {
   "cell_type": "code",
   "execution_count": 42,
   "id": "6727cabc",
   "metadata": {},
   "outputs": [
    {
     "name": "stdout",
     "output_type": "stream",
     "text": [
      "Duration    0\n",
      "Date        0\n",
      "Pulse       0\n",
      "Maxpulse    0\n",
      "Calories    0\n",
      "Type        0\n",
      "dtype: int64\n"
     ]
    }
   ],
   "source": [
    "df = df.dropna()\n",
    "\n",
    "print(df.isnull().sum())"
   ]
  },
  {
   "cell_type": "code",
   "execution_count": 43,
   "id": "43087bbf",
   "metadata": {},
   "outputs": [
    {
     "name": "stdout",
     "output_type": "stream",
     "text": [
      "1\n",
      "    Duration          Date  Pulse  Maxpulse  Calories   Type\n",
      "32        60  '2020/12/12'    100       120     250.7  Heavy\n"
     ]
    }
   ],
   "source": [
    "\"\"\" Remove duplicates\n",
    "\"\"\"\n",
    "\n",
    "mask = df.duplicated()\n",
    "print(mask.sum())\n",
    "print(df[mask])"
   ]
  },
  {
   "cell_type": "code",
   "execution_count": 44,
   "id": "fdb57f02",
   "metadata": {},
   "outputs": [
    {
     "name": "stdout",
     "output_type": "stream",
     "text": [
      "0\n",
      "Empty DataFrame\n",
      "Columns: [Duration, Date, Pulse, Maxpulse, Calories, Type]\n",
      "Index: []\n"
     ]
    }
   ],
   "source": [
    "df = df.drop_duplicates()\n",
    "\n",
    "mask = df.duplicated()\n",
    "print(mask.sum())\n",
    "print(df[mask])"
   ]
  },
  {
   "cell_type": "code",
   "execution_count": 45,
   "id": "10681d30",
   "metadata": {},
   "outputs": [
    {
     "name": "stdout",
     "output_type": "stream",
     "text": [
      "<class 'pandas.core.frame.DataFrame'>\n",
      "Index: 31 entries, 0 to 31\n",
      "Data columns (total 6 columns):\n",
      " #   Column    Non-Null Count  Dtype  \n",
      "---  ------    --------------  -----  \n",
      " 0   Duration  31 non-null     int64  \n",
      " 1   Date      31 non-null     object \n",
      " 2   Pulse     31 non-null     int64  \n",
      " 3   Maxpulse  31 non-null     int64  \n",
      " 4   Calories  31 non-null     float64\n",
      " 5   Type      31 non-null     object \n",
      "dtypes: float64(1), int64(3), object(2)\n",
      "memory usage: 1.7+ KB\n"
     ]
    }
   ],
   "source": [
    "\"\"\" \n",
    "Data type conversion\n",
    "\"\"\"\n",
    "df.info()"
   ]
  },
  {
   "cell_type": "code",
   "execution_count": 46,
   "id": "35564c3a",
   "metadata": {},
   "outputs": [
    {
     "name": "stdout",
     "output_type": "stream",
     "text": [
      "datetime64[ns]\n"
     ]
    }
   ],
   "source": [
    "df[\"Date\"] = df[\"Date\"].astype(\"datetime64[ns]\")\n",
    "print(df[\"Date\"].dtype)"
   ]
  },
  {
   "cell_type": "code",
   "execution_count": 47,
   "id": "9008917c",
   "metadata": {},
   "outputs": [
    {
     "data": {
      "text/html": [
       "<div>\n",
       "<style scoped>\n",
       "    .dataframe tbody tr th:only-of-type {\n",
       "        vertical-align: middle;\n",
       "    }\n",
       "\n",
       "    .dataframe tbody tr th {\n",
       "        vertical-align: top;\n",
       "    }\n",
       "\n",
       "    .dataframe thead th {\n",
       "        text-align: right;\n",
       "    }\n",
       "</style>\n",
       "<table border=\"1\" class=\"dataframe\">\n",
       "  <thead>\n",
       "    <tr style=\"text-align: right;\">\n",
       "      <th></th>\n",
       "      <th>Duration</th>\n",
       "      <th>Date</th>\n",
       "      <th>Pulse</th>\n",
       "      <th>Maxpulse</th>\n",
       "      <th>Calories</th>\n",
       "    </tr>\n",
       "  </thead>\n",
       "  <tbody>\n",
       "    <tr>\n",
       "      <th>count</th>\n",
       "      <td>31.000000</td>\n",
       "      <td>31</td>\n",
       "      <td>31.000000</td>\n",
       "      <td>31.000000</td>\n",
       "      <td>31.000000</td>\n",
       "    </tr>\n",
       "    <tr>\n",
       "      <th>mean</th>\n",
       "      <td>69.193548</td>\n",
       "      <td>2020-12-15 16:15:29.032258048</td>\n",
       "      <td>103.612903</td>\n",
       "      <td>128.806452</td>\n",
       "      <td>305.299272</td>\n",
       "    </tr>\n",
       "    <tr>\n",
       "      <th>min</th>\n",
       "      <td>30.000000</td>\n",
       "      <td>2020-12-01 00:00:00</td>\n",
       "      <td>90.000000</td>\n",
       "      <td>101.000000</td>\n",
       "      <td>195.100000</td>\n",
       "    </tr>\n",
       "    <tr>\n",
       "      <th>25%</th>\n",
       "      <td>60.000000</td>\n",
       "      <td>2020-12-08 12:00:00</td>\n",
       "      <td>100.000000</td>\n",
       "      <td>120.000000</td>\n",
       "      <td>250.700000</td>\n",
       "    </tr>\n",
       "    <tr>\n",
       "      <th>50%</th>\n",
       "      <td>60.000000</td>\n",
       "      <td>2020-12-15 00:00:00</td>\n",
       "      <td>103.000000</td>\n",
       "      <td>128.000000</td>\n",
       "      <td>300.000000</td>\n",
       "    </tr>\n",
       "    <tr>\n",
       "      <th>75%</th>\n",
       "      <td>60.000000</td>\n",
       "      <td>2020-12-23 12:00:00</td>\n",
       "      <td>107.000000</td>\n",
       "      <td>132.500000</td>\n",
       "      <td>342.650000</td>\n",
       "    </tr>\n",
       "    <tr>\n",
       "      <th>max</th>\n",
       "      <td>450.000000</td>\n",
       "      <td>2020-12-31 00:00:00</td>\n",
       "      <td>130.000000</td>\n",
       "      <td>175.000000</td>\n",
       "      <td>479.000000</td>\n",
       "    </tr>\n",
       "    <tr>\n",
       "      <th>std</th>\n",
       "      <td>71.064487</td>\n",
       "      <td>NaN</td>\n",
       "      <td>7.935899</td>\n",
       "      <td>13.095596</td>\n",
       "      <td>64.760652</td>\n",
       "    </tr>\n",
       "  </tbody>\n",
       "</table>\n",
       "</div>"
      ],
      "text/plain": [
       "         Duration                           Date       Pulse    Maxpulse  \\\n",
       "count   31.000000                             31   31.000000   31.000000   \n",
       "mean    69.193548  2020-12-15 16:15:29.032258048  103.612903  128.806452   \n",
       "min     30.000000            2020-12-01 00:00:00   90.000000  101.000000   \n",
       "25%     60.000000            2020-12-08 12:00:00  100.000000  120.000000   \n",
       "50%     60.000000            2020-12-15 00:00:00  103.000000  128.000000   \n",
       "75%     60.000000            2020-12-23 12:00:00  107.000000  132.500000   \n",
       "max    450.000000            2020-12-31 00:00:00  130.000000  175.000000   \n",
       "std     71.064487                            NaN    7.935899   13.095596   \n",
       "\n",
       "         Calories  \n",
       "count   31.000000  \n",
       "mean   305.299272  \n",
       "min    195.100000  \n",
       "25%    250.700000  \n",
       "50%    300.000000  \n",
       "75%    342.650000  \n",
       "max    479.000000  \n",
       "std     64.760652  "
      ]
     },
     "execution_count": 47,
     "metadata": {},
     "output_type": "execute_result"
    }
   ],
   "source": [
    "\"\"\" \n",
    "Exploratory Data Analysis (EDA)\n",
    "\"\"\"\n",
    "\n",
    "df.describe()"
   ]
  },
  {
   "cell_type": "code",
   "execution_count": 48,
   "metadata": {},
   "outputs": [
    {
     "data": {
      "text/plain": [
       "<Axes: xlabel='Pulse'>"
      ]
     },
     "execution_count": 48,
     "metadata": {},
     "output_type": "execute_result"
    },
    {
     "data": {
      "image/png": "[encoded data removed]",
      "text/plain": [
       "<Figure size 640x480 with 1 Axes>"
      ]
     },
     "metadata": {},
     "output_type": "display_data"
    }
   ],
   "source": [
    "df.plot(kind=\"line\", x= \"Pulse\")"
   ]
  },
  {
   "cell_type": "code",
   "execution_count": 52,
   "metadata": {},
   "outputs": [
    {
     "name": "stdout",
     "output_type": "stream",
     "text": [
      "Q1: 100.0\n",
      "Q3: 107.0\n",
      "L: 89.5 R: 117.5\n"
     ]
    }
   ],
   "source": [
    "\"\"\" Remove outliers using InterQuantile range (IQR) \n",
    "IQR = Q3 - Q1\n",
    "L = Q1 - 1.5 * IQR\n",
    "R = Q3 + 1.5 * IQR\n",
    "\"\"\"\n",
    "\n",
    "Q1 = df[\"Pulse\"].quantile(0.25)\n",
    "print(\"Q1:\", Q1)\n",
    "\n",
    "Q3 = df[\"Pulse\"].quantile(0.75)\n",
    "print(\"Q3:\", Q3)\n",
    "\n",
    "IQR = Q3 - Q1\n",
    "L = Q1 - 1.5 * IQR\n",
    "R = Q3 + 1.5 * IQR\n",
    "print(\"L:\", L, \"R:\", R)"
   ]
  },
  {
   "cell_type": "code",
   "execution_count": 54,
   "id": "71285a87",
   "metadata": {},
   "outputs": [
    {
     "name": "stdout",
     "output_type": "stream",
     "text": [
      "    Duration       Date  Pulse  Maxpulse  Calories   Type\n",
      "23        60 2020-12-23    130       101     300.0  Heavy\n"
     ]
    }
   ],
   "source": [
    "non_outlier_mask = df[\"Pulse\"].between(L, R)\n",
    "outlier_mask = ~non_outlier_mask\n",
    "print(df[outlier_mask])"
   ]
  },
  {
   "cell_type": "code",
   "execution_count": 55,
   "id": "d1aa6bd7",
   "metadata": {},
   "outputs": [
    {
     "name": "stdout",
     "output_type": "stream",
     "text": [
      "Empty DataFrame\n",
      "Columns: [Duration, Date, Pulse, Maxpulse, Calories, Type]\n",
      "Index: []\n"
     ]
    },
    {
     "name": "stderr",
     "output_type": "stream",
     "text": [
      "C:\\Users\\shahs_snohmej\\AppData\\Local\\Temp\\ipykernel_21364\\3820760518.py:2: UserWarning: Boolean Series key will be reindexed to match DataFrame index.\n",
      "  print(df[outlier_mask])\n"
     ]
    }
   ],
   "source": [
    "df = df[non_outlier_mask]\n",
    "print(df[outlier_mask])"
   ]
  },
  {
   "cell_type": "code",
   "execution_count": null,
   "id": "86c4e9be",
   "metadata": {},
   "outputs": [],
   "source": [
    "\"\"\" Feature Engineering\n",
    "Select the most relevant features by experience or applying feature selection methods\n",
    "\"\"\""
   ]
  },
  {
   "cell_type": "code",
   "execution_count": 57,
   "id": "3f052a53",
   "metadata": {},
   "outputs": [
    {
     "name": "stderr",
     "output_type": "stream",
     "text": [
      "C:\\Users\\shahs_snohmej\\AppData\\Local\\Temp\\ipykernel_21364\\1325972247.py:14: SettingWithCopyWarning: \n",
      "A value is trying to be set on a copy of a slice from a DataFrame.\n",
      "Try using .loc[row_indexer,col_indexer] = value instead\n",
      "\n",
      "See the caveats in the documentation: https://pandas.pydata.org/pandas-docs/stable/user_guide/indexing.html#returning-a-view-versus-a-copy\n",
      "  df[\"Pulse\"] = df[\"Pulse\"].agg(normalize)\n",
      "C:\\Users\\shahs_snohmej\\AppData\\Local\\Temp\\ipykernel_21364\\1325972247.py:15: SettingWithCopyWarning: \n",
      "A value is trying to be set on a copy of a slice from a DataFrame.\n",
      "Try using .loc[row_indexer,col_indexer] = value instead\n",
      "\n",
      "See the caveats in the documentation: https://pandas.pydata.org/pandas-docs/stable/user_guide/indexing.html#returning-a-view-versus-a-copy\n",
      "  df[\"Maxpulse\"] = df[\"Maxpulse\"].agg(normalize)\n",
      "C:\\Users\\shahs_snohmej\\AppData\\Local\\Temp\\ipykernel_21364\\1325972247.py:16: SettingWithCopyWarning: \n",
      "A value is trying to be set on a copy of a slice from a DataFrame.\n",
      "Try using .loc[row_indexer,col_indexer] = value instead\n",
      "\n",
      "See the caveats in the documentation: https://pandas.pydata.org/pandas-docs/stable/user_guide/indexing.html#returning-a-view-versus-a-copy\n",
      "  df[\"Duration\"] = df[\"Duration\"].agg(normalize)\n",
      "C:\\Users\\shahs_snohmej\\AppData\\Local\\Temp\\ipykernel_21364\\1325972247.py:17: SettingWithCopyWarning: \n",
      "A value is trying to be set on a copy of a slice from a DataFrame.\n",
      "Try using .loc[row_indexer,col_indexer] = value instead\n",
      "\n",
      "See the caveats in the documentation: https://pandas.pydata.org/pandas-docs/stable/user_guide/indexing.html#returning-a-view-versus-a-copy\n",
      "  df[\"Calories\"] = df[\"Calories\"].agg(normalize)\n"
     ]
    },
    {
     "data": {
      "text/html": [
       "<div>\n",
       "<style scoped>\n",
       "    .dataframe tbody tr th:only-of-type {\n",
       "        vertical-align: middle;\n",
       "    }\n",
       "\n",
       "    .dataframe tbody tr th {\n",
       "        vertical-align: top;\n",
       "    }\n",
       "\n",
       "    .dataframe thead th {\n",
       "        text-align: right;\n",
       "    }\n",
       "</style>\n",
       "<table border=\"1\" class=\"dataframe\">\n",
       "  <thead>\n",
       "    <tr style=\"text-align: right;\">\n",
       "      <th></th>\n",
       "      <th>Duration</th>\n",
       "      <th>Date</th>\n",
       "      <th>Pulse</th>\n",
       "      <th>Maxpulse</th>\n",
       "      <th>Calories</th>\n",
       "      <th>Type</th>\n",
       "    </tr>\n",
       "  </thead>\n",
       "  <tbody>\n",
       "    <tr>\n",
       "      <th>0</th>\n",
       "      <td>-0.131472</td>\n",
       "      <td>2020-12-01</td>\n",
       "      <td>1.144105</td>\n",
       "      <td>0.021784</td>\n",
       "      <td>1.573396</td>\n",
       "      <td>Easy</td>\n",
       "    </tr>\n",
       "    <tr>\n",
       "      <th>1</th>\n",
       "      <td>-0.131472</td>\n",
       "      <td>2020-12-02</td>\n",
       "      <td>2.246225</td>\n",
       "      <td>1.247111</td>\n",
       "      <td>2.634735</td>\n",
       "      <td>Moderate</td>\n",
       "    </tr>\n",
       "    <tr>\n",
       "      <th>2</th>\n",
       "      <td>-0.131472</td>\n",
       "      <td>2020-12-03</td>\n",
       "      <td>0.041986</td>\n",
       "      <td>0.430226</td>\n",
       "      <td>0.524203</td>\n",
       "      <td>Moderate</td>\n",
       "    </tr>\n",
       "    <tr>\n",
       "      <th>3</th>\n",
       "      <td>-0.339060</td>\n",
       "      <td>2020-12-04</td>\n",
       "      <td>0.986660</td>\n",
       "      <td>3.697765</td>\n",
       "      <td>-0.350377</td>\n",
       "      <td>Moderate</td>\n",
       "    </tr>\n",
       "    <tr>\n",
       "      <th>4</th>\n",
       "      <td>-0.339060</td>\n",
       "      <td>2020-12-05</td>\n",
       "      <td>2.246225</td>\n",
       "      <td>1.492176</td>\n",
       "      <td>1.526326</td>\n",
       "      <td>Heavy</td>\n",
       "    </tr>\n",
       "  </tbody>\n",
       "</table>\n",
       "</div>"
      ],
      "text/plain": [
       "   Duration       Date     Pulse  Maxpulse  Calories      Type\n",
       "0 -0.131472 2020-12-01  1.144105  0.021784  1.573396      Easy\n",
       "1 -0.131472 2020-12-02  2.246225  1.247111  2.634735  Moderate\n",
       "2 -0.131472 2020-12-03  0.041986  0.430226  0.524203  Moderate\n",
       "3 -0.339060 2020-12-04  0.986660  3.697765 -0.350377  Moderate\n",
       "4 -0.339060 2020-12-05  2.246225  1.492176  1.526326     Heavy"
      ]
     },
     "execution_count": 57,
     "metadata": {},
     "output_type": "execute_result"
    }
   ],
   "source": [
    "\"\"\" Data Transformation\n",
    "\n",
    "Numeric: We need to normalize out data\n",
    "Categorical: We need to encode categorical variables\n",
    "\"\"\"\n",
    "\n",
    "def normalize(col): #standardization\n",
    "    mean = col.mean()\n",
    "    std = col.std()\n",
    "    normalized_col = (col - mean) / std\n",
    "\n",
    "    return normalized_col\n",
    "\n",
    "df[\"Pulse\"] = df[\"Pulse\"].agg(normalize)\n",
    "df[\"Maxpulse\"] = df[\"Maxpulse\"].agg(normalize)\n",
    "df[\"Duration\"] = df[\"Duration\"].agg(normalize)\n",
    "df[\"Calories\"] = df[\"Calories\"].agg(normalize)\n",
    "\n",
    "df.head()"
   ]
  },
  {
   "cell_type": "code",
   "execution_count": 58,
   "id": "780257f4",
   "metadata": {},
   "outputs": [
    {
     "data": {
      "text/plain": [
       "Type\n",
       "Moderate    14\n",
       "Heavy       12\n",
       "Easy         4\n",
       "Name: count, dtype: int64"
      ]
     },
     "execution_count": 58,
     "metadata": {},
     "output_type": "execute_result"
    }
   ],
   "source": [
    "\"\"\"Encoding catagorical data\n",
    "    1. One Hot Encoding (Using Pandas and Scikit-learn)\n",
    "    2. Label Encoding\n",
    "\"\"\"\n",
    "\n",
    "df[\"Type\"].value_counts()"
   ]
  },
  {
   "cell_type": "code",
   "execution_count": 60,
   "id": "1bc5a9a0",
   "metadata": {},
   "outputs": [
    {
     "data": {
      "text/html": [
       "<div>\n",
       "<style scoped>\n",
       "    .dataframe tbody tr th:only-of-type {\n",
       "        vertical-align: middle;\n",
       "    }\n",
       "\n",
       "    .dataframe tbody tr th {\n",
       "        vertical-align: top;\n",
       "    }\n",
       "\n",
       "    .dataframe thead th {\n",
       "        text-align: right;\n",
       "    }\n",
       "</style>\n",
       "<table border=\"1\" class=\"dataframe\">\n",
       "  <thead>\n",
       "    <tr style=\"text-align: right;\">\n",
       "      <th></th>\n",
       "      <th>Duration</th>\n",
       "      <th>Date</th>\n",
       "      <th>Pulse</th>\n",
       "      <th>Maxpulse</th>\n",
       "      <th>Calories</th>\n",
       "      <th>Type_Easy</th>\n",
       "      <th>Type_Heavy</th>\n",
       "      <th>Type_Moderate</th>\n",
       "    </tr>\n",
       "  </thead>\n",
       "  <tbody>\n",
       "    <tr>\n",
       "      <th>0</th>\n",
       "      <td>-0.131472</td>\n",
       "      <td>2020-12-01</td>\n",
       "      <td>1.144105</td>\n",
       "      <td>0.021784</td>\n",
       "      <td>1.573396</td>\n",
       "      <td>True</td>\n",
       "      <td>False</td>\n",
       "      <td>False</td>\n",
       "    </tr>\n",
       "    <tr>\n",
       "      <th>1</th>\n",
       "      <td>-0.131472</td>\n",
       "      <td>2020-12-02</td>\n",
       "      <td>2.246225</td>\n",
       "      <td>1.247111</td>\n",
       "      <td>2.634735</td>\n",
       "      <td>False</td>\n",
       "      <td>False</td>\n",
       "      <td>True</td>\n",
       "    </tr>\n",
       "    <tr>\n",
       "      <th>2</th>\n",
       "      <td>-0.131472</td>\n",
       "      <td>2020-12-03</td>\n",
       "      <td>0.041986</td>\n",
       "      <td>0.430226</td>\n",
       "      <td>0.524203</td>\n",
       "      <td>False</td>\n",
       "      <td>False</td>\n",
       "      <td>True</td>\n",
       "    </tr>\n",
       "    <tr>\n",
       "      <th>3</th>\n",
       "      <td>-0.339060</td>\n",
       "      <td>2020-12-04</td>\n",
       "      <td>0.986660</td>\n",
       "      <td>3.697765</td>\n",
       "      <td>-0.350377</td>\n",
       "      <td>False</td>\n",
       "      <td>False</td>\n",
       "      <td>True</td>\n",
       "    </tr>\n",
       "    <tr>\n",
       "      <th>4</th>\n",
       "      <td>-0.339060</td>\n",
       "      <td>2020-12-05</td>\n",
       "      <td>2.246225</td>\n",
       "      <td>1.492176</td>\n",
       "      <td>1.526326</td>\n",
       "      <td>False</td>\n",
       "      <td>True</td>\n",
       "      <td>False</td>\n",
       "    </tr>\n",
       "  </tbody>\n",
       "</table>\n",
       "</div>"
      ],
      "text/plain": [
       "   Duration       Date     Pulse  Maxpulse  Calories  Type_Easy  Type_Heavy  \\\n",
       "0 -0.131472 2020-12-01  1.144105  0.021784  1.573396       True       False   \n",
       "1 -0.131472 2020-12-02  2.246225  1.247111  2.634735      False       False   \n",
       "2 -0.131472 2020-12-03  0.041986  0.430226  0.524203      False       False   \n",
       "3 -0.339060 2020-12-04  0.986660  3.697765 -0.350377      False       False   \n",
       "4 -0.339060 2020-12-05  2.246225  1.492176  1.526326      False        True   \n",
       "\n",
       "   Type_Moderate  \n",
       "0          False  \n",
       "1           True  \n",
       "2           True  \n",
       "3           True  \n",
       "4          False  "
      ]
     },
     "execution_count": 60,
     "metadata": {},
     "output_type": "execute_result"
    }
   ],
   "source": [
    "\"\"\"One Hot Encoding\n",
    "Category: Type\n",
    "Values: Easy, Moderate, Heavy\n",
    "\n",
    "Easy => [1, 0, 0]\n",
    "Moderate => [0, 1, 0]\n",
    "Heavy => [0, 0, 1]\n",
    "\"\"\"\n",
    "\n",
    "df_hot_encoded = pd.get_dummies(df, columns=[\"Type\"], sparse= True)\n",
    "\n",
    "df_hot_encoded.head()"
   ]
  },
  {
   "cell_type": "code",
   "execution_count": 61,
   "id": "b2a19f16",
   "metadata": {},
   "outputs": [
    {
     "name": "stdout",
     "output_type": "stream",
     "text": [
      "   Duration       Date     Pulse  Maxpulse  Calories      Type  \\\n",
      "0 -0.131472 2020-12-01  1.144105  0.021784  1.573396      Easy   \n",
      "1 -0.131472 2020-12-02  2.246225  1.247111  2.634735  Moderate   \n",
      "2 -0.131472 2020-12-03  0.041986  0.430226  0.524203  Moderate   \n",
      "3 -0.339060 2020-12-04  0.986660  3.697765 -0.350377  Moderate   \n",
      "4 -0.339060 2020-12-05  2.246225  1.492176  1.526326     Heavy   \n",
      "\n",
      "   label_encoded_type  \n",
      "0                   0  \n",
      "1                   1  \n",
      "2                   1  \n",
      "3                   1  \n",
      "4                   2  \n"
     ]
    },
    {
     "name": "stderr",
     "output_type": "stream",
     "text": [
      "C:\\Users\\shahs_snohmej\\AppData\\Local\\Temp\\ipykernel_21364\\1321020334.py:10: SettingWithCopyWarning: \n",
      "A value is trying to be set on a copy of a slice from a DataFrame.\n",
      "Try using .loc[row_indexer,col_indexer] = value instead\n",
      "\n",
      "See the caveats in the documentation: https://pandas.pydata.org/pandas-docs/stable/user_guide/indexing.html#returning-a-view-versus-a-copy\n",
      "  df[\"label_encoded_type\"] = pd.Categorical(df[\"Type\"], categories=[\"Easy\", \"Moderate\", \"Heavy\"], ordered=True).codes\n"
     ]
    }
   ],
   "source": [
    "\"\"\"Label Encoding\n",
    "Catagory: Type \n",
    "Values: Easy, Moderate, Heavy\n",
    "\n",
    "Easy: 1\n",
    "Moderate: 2\n",
    "Heavy: 3\n",
    "\"\"\"\n",
    "\n",
    "df[\"label_encoded_type\"] = pd.Categorical(df[\"Type\"], categories=[\"Easy\", \"Moderate\", \"Heavy\"], ordered=True).codes\n",
    "print(df.head())"
   ]
  },
  {
   "cell_type": "code",
   "execution_count": null,
   "id": "bcb57afc",
   "metadata": {},
   "outputs": [],
   "source": [
    "\"\"\"Data Splitting:\n",
    "    Split the data into Train, Validation, and Test sets\n",
    "\"\"\""
   ]
  }
 ],
 "metadata": {
  "kernelspec": {
   "display_name": "base",
   "language": "python",
   "name": "python3"
  },
  "language_info": {
   "codemirror_mode": {
    "name": "ipython",
    "version": 3
   },
   "file_extension": ".py",
   "mimetype": "text/x-python",
   "name": "python",
   "nbconvert_exporter": "python",
   "pygments_lexer": "ipython3",
   "version": "3.11.7"
  }
 },
 "nbformat": 4,
 "nbformat_minor": 5
}
