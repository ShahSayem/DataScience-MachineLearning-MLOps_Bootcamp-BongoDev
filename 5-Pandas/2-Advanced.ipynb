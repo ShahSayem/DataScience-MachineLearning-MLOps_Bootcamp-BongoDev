{
 "cells": [
  {
   "cell_type": "code",
   "execution_count": null,
   "id": "1448972c",
   "metadata": {},
   "outputs": [],
   "source": [
    "\"\"\"\n",
    "Workflow of Data Scientist:\n",
    "1. Data Collection\n",
    "2. Data Cleaning: handle missing values, remove duplicates, remove outliers, standardize formats\n",
    "3. Exploratory Data Analysis (EDA): \n",
    "    Explore data patterns and distributions\n",
    "    Summary statistics and Visualization\n",
    "4. Feature Engineering:\n",
    "    Selection of most relevant features\n",
    "5. Data Transformation:\n",
    "    Normalize or standardize data\n",
    "    Encode categorical variables\n",
    "    Create new features if necessary\n",
    "6. Data Splitting: Train, Validation, Test (80, 10, 10)\n",
    "    Train set: Used to train the model / estimation of funnction that we are learning from the data\n",
    "    Test set:  Perormance of the ML Algo\n",
    "    Validation set: Use for monitoring the performance of the ML algo during training and may be providing some modification during training to improve the performance or control the training.\n",
    "\n",
    "    The split should be unbiased, fair and representative in all the splits.\n",
    "\"\"\""
   ]
  },
  {
   "cell_type": "code",
   "execution_count": null,
   "metadata": {},
   "outputs": [],
   "source": [
    "import pandas as pd \n",
    "import os\n",
    "from sklearn.model_selection import train_test_split\n",
    "from sklearn.preprocessing import StandardScaler, OneHotEncoder"
   ]
  },
  {
   "cell_type": "code",
   "execution_count": null,
   "metadata": {},
   "outputs": [],
   "source": [
    "root_dir = \"E:\\Programming\\AI\\ML Files\\Live Courses\\BongoDev Bootcamp - Data Science, Machine Learning & MLOps\\5-Pandas\"\n",
    "data_dir = os.path.join(root_dir, \"data\")\n",
    "dataset_path = os.path.join(data_dir, \"health_monitor_data.csv\")"
   ]
  },
  {
   "cell_type": "code",
   "execution_count": null,
   "metadata": {},
   "outputs": [],
   "source": []
  },
  {
   "cell_type": "code",
   "execution_count": null,
   "metadata": {},
   "outputs": [],
   "source": []
  },
  {
   "cell_type": "code",
   "execution_count": null,
   "metadata": {},
   "outputs": [],
   "source": []
  },
  {
   "cell_type": "code",
   "execution_count": null,
   "metadata": {},
   "outputs": [],
   "source": []
  },
  {
   "cell_type": "code",
   "execution_count": null,
   "metadata": {},
   "outputs": [],
   "source": []
  },
  {
   "cell_type": "code",
   "execution_count": null,
   "metadata": {},
   "outputs": [],
   "source": []
  }
 ],
 "metadata": {
  "language_info": {
   "name": "python"
  }
 },
 "nbformat": 4,
 "nbformat_minor": 5
}
